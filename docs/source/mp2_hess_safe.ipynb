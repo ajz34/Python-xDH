{
 "cells": [
  {
   "cell_type": "markdown",
   "metadata": {},
   "source": [
    "# MP2 二阶梯度：安全做法——结合轨道旋转的微分 Z-Vector 方程"
   ]
  },
  {
   "cell_type": "markdown",
   "metadata": {},
   "source": [
    "这篇文档将会使用安全的做法 (轨道旋转得到的全轨道 U 矩阵)，以及计算量和储存量较小的微分 Z-Vector 方程与逆向 Z-Vector 方程的方法，解决 MP2 的二阶梯度．\n",
    "\n",
    "这篇文档将不会详细描述计算细节．代码类似于 [微分 Z-Vector 方程文档](mp2_hess_deriv_zvector.ipynb)，但采用了轨道旋转的 U 矩阵．"
   ]
  },
  {
   "cell_type": "code",
   "execution_count": 1,
   "metadata": {},
   "outputs": [],
   "source": [
    "import numpy as np\n",
    "from pyscf import scf, gto, lib, grad, hessian, dft, mp\n",
    "import pyscf.hessian.rks\n",
    "import pyscf.grad.rks\n",
    "from functools import partial\n",
    "import pickle\n",
    "import matplotlib.pyplot as plt\n",
    "\n",
    "from utilities import val_from_fchk, NumericDiff\n",
    "from hessian import HFHelper, GGAHelper\n",
    "\n",
    "np.einsum = partial(np.einsum, optimize=[\"greedy\", 1024 ** 3 * 2 / 8])\n",
    "np.einsum_path = partial(np.einsum_path, optimize=[\"greedy\", 1024 ** 3 * 2 / 8])\n",
    "np.set_printoptions(6, linewidth=150, suppress=True)"
   ]
  },
  {
   "cell_type": "code",
   "execution_count": 2,
   "metadata": {},
   "outputs": [],
   "source": [
    "mol = gto.Mole()\n",
    "mol.atom = \"\"\"\n",
    "O  0.0  0.0  0.0\n",
    "O  0.0  0.0  1.5\n",
    "H  1.5  0.0  0.0\n",
    "H  0.0  0.7  1.5\n",
    "\"\"\"\n",
    "mol.basis = \"6-31G\"\n",
    "mol.verbose = 0\n",
    "mol.build()\n",
    "\n",
    "nmo = nao = mol.nao\n",
    "natm = mol.natm\n",
    "nocc = mol.nelec[0]\n",
    "nvir = nmo - nocc\n",
    "so = slice(0, nocc)\n",
    "sv = slice(nocc, nmo)\n",
    "sa = slice(0, nmo)"
   ]
  },
  {
   "cell_type": "markdown",
   "metadata": {},
   "source": [
    "### 文档定义所用变量"
   ]
  },
  {
   "cell_type": "code",
   "execution_count": 3,
   "metadata": {},
   "outputs": [
    {
     "name": "stderr",
     "output_type": "stream",
     "text": [
      "/share/home/zyzhu/Git-Repo/Python-xDH/pyxdh/hessian/hf_helper.py:229: UserWarning: eri0_mo: ERI AO -> MO is quite expensive!\n",
      "  warnings.warn(\"eri0_mo: ERI AO -> MO is quite expensive!\")\n",
      "/share/home/zyzhu/Git-Repo/Python-xDH/pyxdh/hessian/hf_helper.py:222: UserWarning: eri0_ao: ERI should not be stored in memory! Consider J/K engines!\n",
      "  warnings.warn(\"eri0_ao: ERI should not be stored in memory! Consider J/K engines!\")\n",
      "/share/home/zyzhu/Git-Repo/Python-xDH/pyxdh/hessian/hf_helper.py:279: UserWarning: eri1_mo: 4-idx tensor ERI should be not used!\n",
      "  warnings.warn(\"eri1_mo: 4-idx tensor ERI should be not used!\")\n",
      "/share/home/zyzhu/Git-Repo/Python-xDH/pyxdh/hessian/hf_helper.py:272: UserWarning: eri1_ao: 4-idx tensor ERI should be not used!\n",
      "  warnings.warn(\"eri1_ao: 4-idx tensor ERI should be not used!\")\n",
      "/share/home/zyzhu/Git-Repo/Python-xDH/pyxdh/hessian/hf_helper.py:317: UserWarning: eri2_mo: 4-idx tensor ERI should be not used!\n",
      "  warnings.warn(\"eri2_mo: 4-idx tensor ERI should be not used!\")\n",
      "/share/home/zyzhu/Git-Repo/Python-xDH/pyxdh/hessian/hf_helper.py:310: UserWarning: eri2_ao: 4-idx tensor ERI should be not used!\n",
      "  warnings.warn(\"eri2_ao: 4-idx tensor ERI should be not used!\")\n"
     ]
    },
    {
     "data": {
      "text/plain": [
       "<hessian.hf_helper.HFHelper at 0x2b210ef44c18>"
      ]
     },
     "execution_count": 3,
     "metadata": {},
     "output_type": "execute_result"
    }
   ],
   "source": [
    "# We only U_1 in this document\n",
    "# Pre-generate some code here will make later work quicker\n",
    "# But these operations or memory consuming\n",
    "hfh = HFHelper(mol)\n",
    "hfh.U_1_vo\n",
    "hfh.eri0_mo\n",
    "hfh.eri1_mo\n",
    "hfh.eri2_mo\n",
    "hfh"
   ]
  },
  {
   "cell_type": "code",
   "execution_count": 4,
   "metadata": {},
   "outputs": [],
   "source": [
    "%%capture\n",
    "\n",
    "e, eo, ev = hfh.e, hfh.eo, hfh.ev\n",
    "C, Co, Cv = hfh.C, hfh.Co, hfh.Cv\n",
    "D = hfh.D\n",
    "eri0_mo = hfh.eri0_mo\n",
    "eri1_mo = hfh.eri1_mo\n",
    "eri2_mo = hfh.eri2_mo\n",
    "\n",
    "F_1_mo = hfh.F_1_mo\n",
    "S_1_mo = hfh.S_1_mo\n",
    "F_2_mo = hfh.F_2_mo\n",
    "S_2_mo = hfh.S_2_mo\n",
    "U_1_vo = hfh.U_1_vo\n",
    "U_1_ov = hfh.U_1_ov\n",
    "Ax0_Core = hfh.Ax0_Core\n",
    "Ax1_Core = hfh.Ax1_Core\n",
    "\n",
    "D_iajb = lib.direct_sum(\"i - a + j - b\", hfh.eo, hfh.ev, hfh.eo, hfh.ev)"
   ]
  },
  {
   "cell_type": "markdown",
   "metadata": {},
   "source": [
    "MP2 Hessian 参考值如下："
   ]
  },
  {
   "cell_type": "code",
   "execution_count": 5,
   "metadata": {},
   "outputs": [],
   "source": [
    "g_array = val_from_fchk(\"Cartesian Force Constants\", \"include/mp2_hess/mp2_hess.fchk\")\n",
    "d_hess = natm * 3\n",
    "hess_mp2_gaussian = np.zeros((d_hess, d_hess))\n",
    "p = 0\n",
    "for d1 in range(d_hess):\n",
    "    for d2 in range(d1 + 1):\n",
    "        hess_mp2_gaussian[d1][d2] = hess_mp2_gaussian[d2][d1] = g_array[p]\n",
    "        p += 1\n",
    "hess_mp2_gaussian = hess_mp2_gaussian.reshape((natm, 3, natm, 3)).swapaxes(1, 2)\n",
    "hess_mp2_ref = hess_mp2_gaussian - hfh.scf_hess.kernel()"
   ]
  },
  {
   "cell_type": "markdown",
   "metadata": {},
   "source": [
    "## 必要变量定义"
   ]
  },
  {
   "cell_type": "markdown",
   "metadata": {},
   "source": [
    "### MP2 相关能计算必要量"
   ]
  },
  {
   "cell_type": "code",
   "execution_count": 6,
   "metadata": {},
   "outputs": [],
   "source": [
    "mp2_eng = mp.MP2(hfh.scf_eng)\n",
    "mp2_eng.kernel()[0]\n",
    "mp2_grad = grad.mp2.Gradients(mp2_eng)\n",
    "mp2_grad.kernel()\n",
    "grad_mp2_ref = mp2_grad.de - hfh.scf_grad.kernel()"
   ]
  },
  {
   "cell_type": "code",
   "execution_count": 7,
   "metadata": {},
   "outputs": [],
   "source": [
    "g_mo = eri0_mo\n",
    "G_mo = 2 * g_mo - g_mo.swapaxes(-1, -3)\n",
    "g_iajb = g_mo[so, sv, so, sv]\n",
    "G_iajb = G_mo[so, sv, so, sv]\n",
    "D_iajb = lib.direct_sum(\"i - a + j - b\", eo, ev, eo, ev)\n",
    "t_iajb = g_iajb / D_iajb\n",
    "T_iajb = 2 * t_iajb - t_iajb.swapaxes(-1, -3)"
   ]
  },
  {
   "cell_type": "code",
   "execution_count": 8,
   "metadata": {
    "scrolled": true
   },
   "outputs": [
    {
     "data": {
      "text/plain": [
       "True"
      ]
     },
     "execution_count": 8,
     "metadata": {},
     "output_type": "execute_result"
    }
   ],
   "source": [
    "np.allclose((g_iajb * G_iajb / D_iajb).sum(), mp2_eng.e_corr)"
   ]
  },
  {
   "cell_type": "markdown",
   "metadata": {},
   "source": [
    "### 旋转下 U 矩阵的定义"
   ]
  },
  {
   "cell_type": "code",
   "execution_count": 9,
   "metadata": {},
   "outputs": [],
   "source": [
    "U_1R = - 0.5 * S_1_mo\n",
    "U_1R[:, :, sv, so] = U_1_vo\n",
    "U_1R[:, :, so, sv] = - S_1_mo[:, :, so, sv] - U_1_vo.swapaxes(-1, -2)"
   ]
  },
  {
   "cell_type": "code",
   "execution_count": 10,
   "metadata": {},
   "outputs": [],
   "source": [
    "F_1R = (\n",
    "    + F_1_mo\n",
    "    + np.einsum(\"Atpq, p -> Atpq\", U_1R, e)\n",
    "    + np.einsum(\"Atqp, q -> Atpq\", U_1R, e)\n",
    "    + Ax0_Core(sa, sa, sv, so)(U_1_vo)\n",
    "    - 0.5 * Ax0_Core(sa, sa, so, so)(S_1_mo[:, :, so, so])\n",
    ")"
   ]
  },
  {
   "cell_type": "markdown",
   "metadata": {},
   "source": [
    "### MP2 梯度计算必要量"
   ]
  },
  {
   "cell_type": "code",
   "execution_count": 11,
   "metadata": {},
   "outputs": [],
   "source": [
    "pd_g_mo = eri1_mo\n",
    "pd_g_iajb = pd_g_mo[:, :, so, sv, so, sv]"
   ]
  },
  {
   "cell_type": "code",
   "execution_count": 12,
   "metadata": {},
   "outputs": [],
   "source": [
    "D_r = np.zeros((nmo, nmo))\n",
    "D_r[so, so] += - 2 * np.einsum(\"iakb, jakb -> ij\", T_iajb, t_iajb)\n",
    "D_r[sv, sv] += 2 * np.einsum(\"iajc, ibjc -> ab\", T_iajb, t_iajb)\n",
    "\n",
    "L = np.zeros((nvir, nocc))\n",
    "L += Ax0_Core(sv, so, sa, sa)(D_r)\n",
    "L -= 4 * np.einsum(\"jakb, ijbk -> ai\", T_iajb, g_mo[so, so, sv, so])\n",
    "L += 4 * np.einsum(\"ibjc, abjc -> ai\", T_iajb, g_mo[sv, sv, so, sv])\n",
    "\n",
    "D_r[sv, so] = scf.cphf.solve(Ax0_Core(sv, so, sv, so), e, hfh.mo_occ, L, max_cycle=100, tol=1e-13)[0]"
   ]
  },
  {
   "cell_type": "code",
   "execution_count": 13,
   "metadata": {},
   "outputs": [],
   "source": [
    "# W[I] - Correct with s1-im1 term in PySCF\n",
    "D_WI = np.zeros((nmo, nmo))\n",
    "D_WI[so, so] = - 2 * np.einsum(\"iakb, jakb -> ij\", T_iajb, g_mo[so, sv, so, sv])\n",
    "D_WI[sv, sv] = - 2 * np.einsum(\"iajc, ibjc -> ab\", T_iajb, g_mo[so, sv, so, sv])\n",
    "D_WI[sv, so] = - 4 * np.einsum(\"jakb, ijbk -> ai\", T_iajb, g_mo[so, so, sv, so])\n",
    "\n",
    "# W[II] - Correct with s1-zeta term in PySCF\n",
    "# Note that zeta in PySCF includes HF energy weighted density rdm1e\n",
    "# The need of scaler 1 in D_WII[sv, so] is that Aikens use doubled P\n",
    "D_WII = np.zeros((nmo, nmo))\n",
    "D_WII[so, so] = - 0.5 * D_r[so, so] * lib.direct_sum(\"i + j -> ij\", eo, eo)\n",
    "D_WII[sv, sv] = - 0.5 * D_r[sv, sv] * lib.direct_sum(\"a + b -> ab\", ev, ev)\n",
    "D_WII[sv, so] = - D_r[sv, so] * eo\n",
    "\n",
    "# W[III] - Correct with s1-vhf_s1occ term in PySCF\n",
    "D_WIII = np.zeros((nmo, nmo))\n",
    "D_WIII[so, so] = - 0.5 * Ax0_Core(so, so, sa, sa)(D_r)\n",
    "\n",
    "# Summation\n",
    "D_W = D_WI + D_WII + D_WIII"
   ]
  },
  {
   "cell_type": "code",
   "execution_count": 14,
   "metadata": {},
   "outputs": [
    {
     "data": {
      "text/plain": [
       "True"
      ]
     },
     "execution_count": 14,
     "metadata": {},
     "output_type": "execute_result"
    }
   ],
   "source": [
    "np.allclose(\n",
    "    + (D_r * F_1_mo).sum(axis=(-1, -2))\n",
    "    + (D_W * S_1_mo).sum(axis=(-1, -2))\n",
    "    + (2 * T_iajb * pd_g_iajb).sum(axis=(-1, -2, -3, -4)),\n",
    "    mp2_grad.de - hfh.scf_grad.de\n",
    ")"
   ]
  },
  {
   "cell_type": "markdown",
   "metadata": {},
   "source": [
    "## MP2 二阶梯度：轨道旋转的 Z-Vector 方程解法"
   ]
  },
  {
   "cell_type": "markdown",
   "metadata": {},
   "source": [
    "### 第一贡献项 $D_{pq}^\\mathrm{MP2} (\\frac{\\partial}{\\partial B_s} F_{pq}^{A_t})$"
   ]
  },
  {
   "cell_type": "code",
   "execution_count": 15,
   "metadata": {},
   "outputs": [],
   "source": [
    "pdR_F_1_mo = (\n",
    "    + hfh.F_2_mo\n",
    "    + np.einsum(\"Atpm, Bsmq -> ABtspq\", hfh.F_1_mo, U_1R)\n",
    "    + np.einsum(\"Atmq, Bsmp -> ABtspq\", hfh.F_1_mo, U_1R)\n",
    "    + hfh.Ax1_Core(sa, sa, sa, so)(U_1R[:, :, :, so])\n",
    ")"
   ]
  },
  {
   "cell_type": "code",
   "execution_count": 16,
   "metadata": {},
   "outputs": [],
   "source": [
    "hess_mp2_contrib1 = np.einsum(\"pq, ABtspq -> ABts\", D_r, pdR_F_1_mo)"
   ]
  },
  {
   "cell_type": "markdown",
   "metadata": {},
   "source": [
    "### 第二贡献项 $W_{pq}^\\mathrm{MP2} (\\frac{\\partial}{\\partial B_s} S_{pq}^{A_t})$"
   ]
  },
  {
   "cell_type": "markdown",
   "metadata": {},
   "source": [
    "这一项的难点也仅仅在于求取 `pdA_S_1_mo` $(\\frac{\\partial}{\\partial B_s} S_{pq}^{A_t})$．"
   ]
  },
  {
   "cell_type": "code",
   "execution_count": 17,
   "metadata": {},
   "outputs": [],
   "source": [
    "pdR_S_1_mo = (\n",
    "    + hfh.S_2_mo\n",
    "    + np.einsum(\"Atpm, Bsmq -> ABtspq\", hfh.S_1_mo, U_1R)\n",
    "    + np.einsum(\"Atmq, Bsmp -> ABtspq\", hfh.S_1_mo, U_1R)\n",
    ")"
   ]
  },
  {
   "cell_type": "code",
   "execution_count": 18,
   "metadata": {},
   "outputs": [],
   "source": [
    "hess_mp2_contrib2 = np.einsum(\"pq, ABtspq -> ABts\", D_W, pdR_S_1_mo)"
   ]
  },
  {
   "cell_type": "markdown",
   "metadata": {},
   "source": [
    "### 第五、六贡献项 $2 (\\frac{\\partial}{\\partial B_s} T_{ij}^{ab}) (\\partial_{A_t} g_{ij}^{ab}) + 2 T_{ij}^{ab} (\\frac{\\partial}{\\partial B_s} \\partial_{A_t} g_{ij}^{ab})$"
   ]
  },
  {
   "cell_type": "code",
   "execution_count": 19,
   "metadata": {},
   "outputs": [],
   "source": [
    "pd_g_mo = eri1_mo\n",
    "pdRU_g_mo = (\n",
    "    + np.einsum(\"pjkl, Atpi -> Atijkl\", g_mo, U_1R)\n",
    "    + np.einsum(\"ipkl, Atpj -> Atijkl\", g_mo, U_1R)\n",
    "    + np.einsum(\"ijpl, Atpk -> Atijkl\", g_mo, U_1R)\n",
    "    + np.einsum(\"ijkp, Atpl -> Atijkl\", g_mo, U_1R)\n",
    ")\n",
    "pdR_g_mo = pd_g_mo + pdRU_g_mo\n",
    "pdR_G_mo = 2 * pdR_g_mo - pdR_g_mo.swapaxes(-1, -3)\n",
    "\n",
    "pdR_g_iajb = pdR_g_mo[:, :, so, sv, so, sv]\n",
    "pdR_G_iajb = pdR_G_mo[:, :, so, sv, so, sv]"
   ]
  },
  {
   "cell_type": "code",
   "execution_count": 20,
   "metadata": {},
   "outputs": [],
   "source": [
    "pd_pd_g_mo = eri2_mo\n",
    "pdRU_pd_g_mo = (\n",
    "    # pd on g, U matrix on B\n",
    "    + np.einsum(\"Atpjkl, Bspi -> ABtsijkl\", pd_g_mo, U_1R)\n",
    "    + np.einsum(\"Atipkl, Bspj -> ABtsijkl\", pd_g_mo, U_1R)\n",
    "    + np.einsum(\"Atijpl, Bspk -> ABtsijkl\", pd_g_mo, U_1R)\n",
    "    + np.einsum(\"Atijkp, Bspl -> ABtsijkl\", pd_g_mo, U_1R)\n",
    ")\n",
    "pdR_pd_g_mo = pd_pd_g_mo + pdRU_pd_g_mo\n",
    "pdR_pd_g_iajb = pdR_pd_g_mo[:, :, :, :, so, sv, so, sv]"
   ]
  },
  {
   "cell_type": "code",
   "execution_count": 21,
   "metadata": {},
   "outputs": [],
   "source": [
    "pdR_t_iajb = (\n",
    "    + pdR_g_iajb / D_iajb\n",
    "    - np.einsum(\"Atki, kajb, iajb -> Atiajb\", F_1R[:, :, so, so], t_iajb, 1 / D_iajb)\n",
    "    - np.einsum(\"Atkj, iakb, iajb -> Atiajb\", F_1R[:, :, so, so], t_iajb, 1 / D_iajb)\n",
    "    + np.einsum(\"Atca, icjb, iajb -> Atiajb\", F_1R[:, :, sv, sv], t_iajb, 1 / D_iajb)\n",
    "    + np.einsum(\"Atcb, iajc, iajb -> Atiajb\", F_1R[:, :, sv, sv], t_iajb, 1 / D_iajb)\n",
    ")\n",
    "pdR_T_iajb = 2 * pdR_t_iajb - pdR_t_iajb.swapaxes(-1, -3)"
   ]
  },
  {
   "cell_type": "code",
   "execution_count": 22,
   "metadata": {},
   "outputs": [
    {
     "data": {
      "text/plain": [
       "array([[-0., -0.,  0.],\n",
       "       [ 0.,  0.,  0.],\n",
       "       [ 0.,  0., -0.],\n",
       "       [-0., -0., -0.]])"
      ]
     },
     "execution_count": 22,
     "metadata": {},
     "output_type": "execute_result"
    }
   ],
   "source": [
    "(\n",
    "    + np.einsum(\"Atiajb, iajb -> At\", pdR_T_iajb, g_iajb)\n",
    "    + np.einsum(\"iajb, Atiajb -> At\", T_iajb, pdR_g_iajb)\n",
    ") - (mp2_grad.de - hfh.scf_grad.de)"
   ]
  },
  {
   "cell_type": "code",
   "execution_count": 23,
   "metadata": {},
   "outputs": [],
   "source": [
    "hess_mp2_contrib5_6 = (\n",
    "    + 2 * np.einsum(\"Bsiajb, Atiajb -> ABts\", pdR_T_iajb, pd_g_iajb)\n",
    "    + 2 * np.einsum(\"iajb, ABtsiajb -> ABts\", T_iajb, pdR_pd_g_iajb)\n",
    ")"
   ]
  },
  {
   "cell_type": "markdown",
   "metadata": {},
   "source": [
    "### 第三、四贡献项 $(\\frac{\\partial}{\\partial B_s} D_{pq}^\\mathrm{MP2}) F_{pq}^{A_t} + (\\frac{\\partial}{\\partial B_s} W_{pq}^\\mathrm{MP2}) S_{pq}^{A_t}$"
   ]
  },
  {
   "cell_type": "code",
   "execution_count": 24,
   "metadata": {},
   "outputs": [],
   "source": [
    "pdR_D_r = np.zeros((natm, 3, nmo, nmo))\n",
    "pdR_D_r[:, :, so, so] -= 2 * np.einsum(\"iakb, Atjakb -> Atij\", T_iajb, pdR_t_iajb)\n",
    "pdR_D_r[:, :, sv, sv] += 2 * np.einsum(\"iajc, Atibjc -> Atab\", T_iajb, pdR_t_iajb)\n",
    "pdR_D_r[:, :, so, so] -= 2 * np.einsum(\"Atiakb, jakb -> Atij\", pdR_T_iajb, t_iajb)\n",
    "pdR_D_r[:, :, sv, sv] += 2 * np.einsum(\"Atiajc, ibjc -> Atab\", pdR_T_iajb, t_iajb)\n",
    "\n",
    "RHS = np.zeros((natm, 3, nvir, nocc))\n",
    "# D_r Part\n",
    "RHS += hfh.Ax0_Core(sv, so, sa, sa)(pdR_D_r)\n",
    "RHS += hfh.Ax1_Core(sv, so, sa, sa)(np.array([[D_r]]))[:, 0, :, 0]\n",
    "RHS += np.einsum(\"Atpa, pi -> Atai\", U_1R[:, :, :, sv], hfh.Ax0_Core(sa, so, sa, sa)(D_r))\n",
    "RHS += np.einsum(\"Atpi, ap -> Atai\", U_1R[:, :, :, so], hfh.Ax0_Core(sv, sa, sa, sa)(D_r))\n",
    "RHS += Ax0_Core(sv, so, sa, sa)(np.einsum(\"Atmp, pq -> Atmq\", U_1R, D_r))\n",
    "RHS += Ax0_Core(sv, so, sa, sa)(np.einsum(\"Atmq, pq -> Atpm\", U_1R, D_r))\n",
    "# (ea - ei) * Dai\n",
    "RHS += np.einsum(\"Atca, ci -> Atai\", F_1R[:, :, sv, sv], D_r[sv, so])\n",
    "RHS -= np.einsum(\"Atki, ak -> Atai\", F_1R[:, :, so, so], D_r[sv, so])\n",
    "# 2-pdm part\n",
    "RHS -= 4 * np.einsum(\"Atjakb, ijbk -> Atai\", pdR_T_iajb, g_mo[so, so, sv, so])\n",
    "RHS += 4 * np.einsum(\"Atibjc, abjc -> Atai\", pdR_T_iajb, g_mo[sv, sv, so, sv])\n",
    "RHS -= 4 * np.einsum(\"jakb, Atijbk -> Atai\", T_iajb, pdR_g_mo[:, :, so, so, sv, so])\n",
    "RHS += 4 * np.einsum(\"ibjc, Atabjc -> Atai\", T_iajb, pdR_g_mo[:, :, sv, sv, so, sv])"
   ]
  },
  {
   "cell_type": "code",
   "execution_count": 25,
   "metadata": {},
   "outputs": [],
   "source": [
    "# o-o and v-v part contribution of original contrib3\n",
    "# code is the same, however result value is different compared with contrib3\n",
    "hess_mp2_contrib3_4 = np.einsum(\"Bspq, Atpq -> ABts\", pdR_D_r, F_1_mo)"
   ]
  },
  {
   "cell_type": "code",
   "execution_count": 26,
   "metadata": {},
   "outputs": [],
   "source": [
    "# WI part is the same as before\n",
    "pdR_D_W = np.zeros((natm, 3, nmo, nmo))\n",
    "pdR_D_W[:, :, so, so] -= 2 * np.einsum(\"Atiakb, jakb -> Atij\", pdR_T_iajb, g_mo[so, sv, so, sv])\n",
    "pdR_D_W[:, :, sv, sv] -= 2 * np.einsum(\"Atiajc, ibjc -> Atab\", pdR_T_iajb, g_mo[so, sv, so, sv])\n",
    "pdR_D_W[:, :, sv, so] -= 4 * np.einsum(\"Atjakb, ijbk -> Atai\", pdR_T_iajb, g_mo[so, so, sv, so])\n",
    "pdR_D_W[:, :, so, so] -= 2 * np.einsum(\"iakb, Atjakb -> Atij\", T_iajb, pdR_g_mo[:, :, so, sv, so, sv])\n",
    "pdR_D_W[:, :, sv, sv] -= 2 * np.einsum(\"iajc, Atibjc -> Atab\", T_iajb, pdR_g_mo[:, :, so, sv, so, sv])\n",
    "pdR_D_W[:, :, sv, so] -= 4 * np.einsum(\"jakb, Atijbk -> Atai\", T_iajb, pdR_g_mo[:, :, so, so, sv, so])\n",
    "\n",
    "# WII's pdR_D_r[:, :, sv, so] contribution is zero\n",
    "pdR_D_W[:, :, so, so] -= pdR_D_r[:, :, so, so] * eo\n",
    "pdR_D_W[:, :, sv, sv] -= pdR_D_r[:, :, sv, sv] * ev\n",
    "pdR_D_W[:, :, so, so] -= np.einsum(\"Atki, kj -> Atij\", F_1R[:, :, so, so], D_r[so, so])\n",
    "pdR_D_W[:, :, sv, sv] -= np.einsum(\"Atca, cb -> Atab\", F_1R[:, :, sv, sv], D_r[sv, sv])\n",
    "pdR_D_W[:, :, sv, so] -= np.einsum(\"Atki, ak -> Atai\", F_1R[:, :, so, so], D_r[sv, so])\n",
    "\n",
    "# WIII's code is the same as before, but result value is different compared with that before\n",
    "pdR_D_W[:, :, so, so] -= 0.5 * hfh.Ax0_Core(so, so, sa, sa)(pdR_D_r)\n",
    "pdR_D_W[:, :, so, so] -= 0.5 * hfh.Ax1_Core(so, so, sa, sa)(np.array([[D_r]]))[:, 0, :, 0]\n",
    "pdR_D_W[:, :, so, so] -= 0.5 * np.einsum(\"Atmi, mj -> Atij\", U_1R[:, :, :, so], hfh.Ax0_Core(sa, so, sa, sa)(D_r))\n",
    "pdR_D_W[:, :, so, so] -= 0.5 * np.einsum(\"Atmj, im -> Atij\", U_1R[:, :, :, so], hfh.Ax0_Core(so, sa, sa, sa)(D_r))\n",
    "pdR_D_W[:, :, so, so] -= 0.5 * Ax0_Core(so, so, sa, sa)(np.einsum(\"Atmp, pq -> Atmq\", U_1R, D_r))\n",
    "pdR_D_W[:, :, so, so] -= 0.5 * Ax0_Core(so, so, sa, sa)(np.einsum(\"Atmq, pq -> Atmp\", U_1R, D_r))\n",
    "\n",
    "# part of contribution of original contrib4\n",
    "hess_mp2_contrib3_4 += np.einsum(\"Bspq, Atpq -> ABts\", pdR_D_W, S_1_mo)"
   ]
  },
  {
   "cell_type": "code",
   "execution_count": 27,
   "metadata": {},
   "outputs": [],
   "source": [
    "# finally, add RHS * U_1_vo\n",
    "hess_mp2_contrib3_4 += np.einsum(\"Atai, Bsai -> ABts\", U_1_vo, RHS)"
   ]
  },
  {
   "cell_type": "code",
   "execution_count": 28,
   "metadata": {
    "scrolled": true
   },
   "outputs": [],
   "source": [
    "hess_mp2 = (\n",
    "    + hess_mp2_contrib1\n",
    "    + hess_mp2_contrib2\n",
    "    + hess_mp2_contrib3_4\n",
    "    + hess_mp2_contrib5_6\n",
    ")"
   ]
  },
  {
   "cell_type": "code",
   "execution_count": 29,
   "metadata": {},
   "outputs": [
    {
     "data": {
      "text/plain": [
       "True"
      ]
     },
     "execution_count": 29,
     "metadata": {},
     "output_type": "execute_result"
    }
   ],
   "source": [
    "np.allclose(hess_mp2, hess_mp2.swapaxes(0, 1).swapaxes(2, 3))"
   ]
  },
  {
   "cell_type": "code",
   "execution_count": 30,
   "metadata": {},
   "outputs": [
    {
     "name": "stdout",
     "output_type": "stream",
     "text": [
      "5.8013600867656834e-08\n",
      "-6.048166338590288e-08\n"
     ]
    }
   ],
   "source": [
    "print((hess_mp2 - hess_mp2_ref).max())\n",
    "print((hess_mp2 - hess_mp2_ref).min())"
   ]
  }
 ],
 "metadata": {
  "kernelspec": {
   "display_name": "Python 3",
   "language": "python",
   "name": "python3"
  },
  "language_info": {
   "codemirror_mode": {
    "name": "ipython",
    "version": 3
   },
   "file_extension": ".py",
   "mimetype": "text/x-python",
   "name": "python",
   "nbconvert_exporter": "python",
   "pygments_lexer": "ipython3",
   "version": "3.7.1"
  }
 },
 "nbformat": 4,
 "nbformat_minor": 2
}
