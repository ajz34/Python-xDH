{
 "cells": [
  {
   "cell_type": "markdown",
   "metadata": {},
   "source": [
    "# 通过微分 Z-Vector 方程解决 HF-GGA 过程的 UU 贡献"
   ]
  },
  {
   "cell_type": "markdown",
   "metadata": {},
   "source": [
    "这份笔记只打算解决 HF-GGA 过程中的项 $E_\\mathrm{elec}^{A_t B_s}$ 中所产生的 $\\partial_{A_t}^\\mathrm{U} \\partial_{B_s}^\\mathrm{U} E_\\mathrm{elec}$。我们以前的笔记中，使用了 Z-Vector 方程的方法，避免二阶 U 矩阵的生成；但事实上，这个方法的计算量仍然达到了生成一阶 U 矩阵的计算大小。在 MP2 的生成过程中，Cammi, R. et al 指出，可以使用“逆向 Z-Vector 过程”来解决这部分较大的计算量。"
   ]
  },
  {
   "cell_type": "code",
   "execution_count": 16,
   "metadata": {},
   "outputs": [],
   "source": [
    "import numpy as np\n",
    "from pyscf import scf, gto, lib, grad, hessian, dft\n",
    "import pyscf.hessian.rks\n",
    "import pyscf.grad.rks\n",
    "import matplotlib.pyplot as plt\n",
    "from functools import partial\n",
    "from hessian import HFHelper, GGAHelper, NCGGAEngine\n",
    "from utilities import NumericDiff\n",
    "\n",
    "np.einsum = partial(np.einsum, optimize=[\"greedy\", 1024 ** 3 * 2 / 8])\n",
    "np.set_printoptions(5, linewidth=120, suppress=True)"
   ]
  },
  {
   "cell_type": "code",
   "execution_count": 2,
   "metadata": {},
   "outputs": [],
   "source": [
    "mol = gto.Mole()\n",
    "mol.atom = \"\"\"\n",
    "O  0.0  0.0  0.0\n",
    "O  0.0  0.0  1.5\n",
    "H  1.5  0.0  0.0\n",
    "H  0.0  0.7  1.5\n",
    "\"\"\"\n",
    "mol.basis = \"6-31G\"\n",
    "mol.verbose = 0\n",
    "mol.build()\n",
    "\n",
    "def mol_to_grids(mol):\n",
    "    grids = dft.gen_grid.Grids(mol)\n",
    "    grids.atom_grid = (99, 590)\n",
    "    grids.becke_scheme = dft.gen_grid.stratmann\n",
    "    grids.prune = None\n",
    "    grids.build()\n",
    "    return grids\n",
    "grids = mol_to_grids(mol)\n",
    "\n",
    "nmo = nao = mol.nao\n",
    "natm = mol.natm\n",
    "nocc = mol.nelec[0]\n",
    "nvir = nmo - nocc\n",
    "so = slice(0, nocc)\n",
    "sv = slice(nocc, nmo)\n",
    "sa = slice(0, nmo)"
   ]
  },
  {
   "cell_type": "code",
   "execution_count": 3,
   "metadata": {},
   "outputs": [],
   "source": [
    "hfh = HFHelper(mol)\n",
    "mol_slice=hfh.mol_slice"
   ]
  },
  {
   "cell_type": "code",
   "execution_count": 4,
   "metadata": {
    "scrolled": true
   },
   "outputs": [
    {
     "data": {
      "text/plain": [
       "array([[-0.11432,  0.01432,  0.00169],\n",
       "       [ 0.01147,  0.7441 ,  0.01752],\n",
       "       [ 0.09712,  0.00267,  0.0172 ],\n",
       "       [ 0.00573, -0.7611 , -0.03642]])"
      ]
     },
     "execution_count": 4,
     "metadata": {},
     "output_type": "execute_result"
    }
   ],
   "source": [
    "nch = GGAHelper(mol, \"b3lypg\", grids, init_scf=False)\n",
    "ncengine = NCGGAEngine(hfh, nch)\n",
    "ncengine.get_E_1()"
   ]
  },
  {
   "cell_type": "markdown",
   "metadata": {},
   "source": [
    "在这里我们可以得到 HF-B3LYP 的非自恰二阶 Hessian 的结果："
   ]
  },
  {
   "cell_type": "code",
   "execution_count": 5,
   "metadata": {},
   "outputs": [],
   "source": [
    "E_2_byengine = ncengine.E_2"
   ]
  },
  {
   "cell_type": "markdown",
   "metadata": {},
   "source": [
    "我们最终的目标是重复 $\\partial_{A_t}^\\mathrm{U} \\partial_{B_s}^\\mathrm{U} E_\\mathrm{elec}$ `E_UU_ref`。"
   ]
  },
  {
   "cell_type": "code",
   "execution_count": 6,
   "metadata": {},
   "outputs": [],
   "source": [
    "E_UU_ref = ncengine.E_UU"
   ]
  },
  {
   "cell_type": "code",
   "execution_count": 7,
   "metadata": {},
   "outputs": [],
   "source": [
    "E_SU_part_ref = (\n",
    "    + 4 * np.einsum(\"Bspi, Atpi -> ABts\", hfh.U_1_vo, nch.F_1_mo[:, :, sv, so])\n",
    "    - 2 * np.einsum(\"Bspi, Atpi -> ABts\", hfh.S_1_mo[:, :, so, so], nch.F_1_mo[:, :, so, so])\n",
    ")"
   ]
  },
  {
   "cell_type": "code",
   "execution_count": null,
   "metadata": {},
   "outputs": [],
   "source": []
  },
  {
   "cell_type": "code",
   "execution_count": null,
   "metadata": {},
   "outputs": [],
   "source": []
  },
  {
   "cell_type": "code",
   "execution_count": 11,
   "metadata": {},
   "outputs": [],
   "source": [
    "e = hfh.e\n",
    "eo, ev = e[so], e[sv]\n",
    "\n",
    "e_1 = (hfh.B_1 + hfh.Ax0_Core(sa, sa, sv, so)(hfh.U_1_vo)).diagonal(0, -1, -2)\n",
    "eo_1, ev_1 = e_1[:, :, so], e_1[:, :, sv]\n",
    "\n",
    "Z_1 = ncengine.Z_1\n",
    "U_1 = hfh.U_1\n",
    "U_1_vo = hfh.U_1_vo"
   ]
  },
  {
   "cell_type": "markdown",
   "metadata": {},
   "source": [
    "## 微分 Z-Vector 方程"
   ]
  },
  {
   "cell_type": "code",
   "execution_count": null,
   "metadata": {},
   "outputs": [],
   "source": []
  },
  {
   "cell_type": "code",
   "execution_count": null,
   "metadata": {},
   "outputs": [],
   "source": []
  },
  {
   "cell_type": "code",
   "execution_count": 12,
   "metadata": {},
   "outputs": [],
   "source": [
    "E_U_ref = (\n",
    "    + 4 * np.einsum(\"Atai, ai -> At\", hfh.B_1[:, :, sv, so], Z_1)\n",
    "    - 2 * np.einsum(\"Atki, ki -> At\", hfh.S_1_mo[:, :, so, so], nch.F_0_mo[so, so])\n",
    ")"
   ]
  },
  {
   "cell_type": "code",
   "execution_count": null,
   "metadata": {},
   "outputs": [],
   "source": []
  },
  {
   "cell_type": "code",
   "execution_count": 13,
   "metadata": {},
   "outputs": [],
   "source": [
    "pdA_nch_F_0_mo = (\n",
    "    + nch.F_1_mo\n",
    "    + np.einsum(\"pm, Atmq -> Atpq\", nch.F_0_mo, U_1)\n",
    "    + np.einsum(\"mq, Atmp -> Atpq\", nch.F_0_mo, U_1)\n",
    "    + nch.Ax0_Core(sa, sa, sa, so)(U_1[:, :, :, so])\n",
    ")"
   ]
  },
  {
   "cell_type": "code",
   "execution_count": 14,
   "metadata": {},
   "outputs": [],
   "source": [
    "def mol_to_nch_F_0_mo(mol):\n",
    "    hfh = HFHelper(mol)\n",
    "    nch = GGAHelper(mol, \"b3lypg\", mol_to_grids(mol), init_scf=False)\n",
    "    ncengine = NCGGAEngine(hfh, nch)\n",
    "    return nch.F_0_mo\n",
    "diff_nch_F_0_mo = NumericDiff(mol, mol_to_nch_F_0_mo).get_numdif()"
   ]
  },
  {
   "cell_type": "code",
   "execution_count": 17,
   "metadata": {},
   "outputs": [
    {
     "data": {
      "image/png": "[encoded data removed]",
      "text/plain": [
       "<Figure size 432x288 with 1 Axes>"
      ]
     },
     "metadata": {
      "needs_background": "light"
     },
     "output_type": "display_data"
    }
   ],
   "source": [
    "plt.hist(abs(pdA_nch_F_0_mo - diff_nch_F_0_mo).ravel(), bins=np.logspace(np.log10(1e-10),np.log10(1e-4), 50))\n",
    "plt.gca().set_xscale(\"log\")"
   ]
  },
  {
   "cell_type": "code",
   "execution_count": 23,
   "metadata": {},
   "outputs": [],
   "source": [
    "pdA_hfh_F_1_mo = (\n",
    "    + hfh.F_2_mo\n",
    "    + np.einsum(\"Atpm, Bsmq -> ABtspq\", hfh.F_1_mo, U_1)\n",
    "    + np.einsum(\"Atmq, Bsmp -> ABtspq\", hfh.F_1_mo, U_1)\n",
    "    + hfh.Ax1_Core(sa, sa, sa, so)(U_1[:, :, :, so])\n",
    ")"
   ]
  },
  {
   "cell_type": "code",
   "execution_count": 26,
   "metadata": {},
   "outputs": [],
   "source": [
    "diff_hfh_F_1_mo = NumericDiff(mol, lambda mol : HFHelper(mol).F_1_mo, deriv=2, symm=False).get_numdif()"
   ]
  },
  {
   "cell_type": "code",
   "execution_count": 29,
   "metadata": {},
   "outputs": [
    {
     "data": {
      "image/png": "[encoded data removed]",
      "text/plain": [
       "<Figure size 432x288 with 1 Axes>"
      ]
     },
     "metadata": {
      "needs_background": "light"
     },
     "output_type": "display_data"
    }
   ],
   "source": [
    "plt.hist(abs(pdA_hfh_F_1_mo - diff_hfh_F_1_mo).ravel(), bins=np.logspace(np.log10(1e-10),np.log10(1e-4), 50))\n",
    "plt.gca().set_xscale(\"log\")"
   ]
  },
  {
   "cell_type": "code",
   "execution_count": 33,
   "metadata": {},
   "outputs": [],
   "source": [
    "pdA_hfh_S_1_mo = (\n",
    "    + hfh.S_2_mo\n",
    "    + np.einsum(\"Bsmp, Atmq -> ABtspq\", U_1, hfh.S_1_mo)\n",
    "    + np.einsum(\"Bsmq, Atpm -> ABtspq\", U_1, hfh.S_1_mo)\n",
    ")"
   ]
  },
  {
   "cell_type": "code",
   "execution_count": 30,
   "metadata": {},
   "outputs": [],
   "source": [
    "diff_hfh_S_1_mo = NumericDiff(mol, lambda mol : HFHelper(mol).S_1_mo, deriv=2, symm=False).get_numdif()"
   ]
  },
  {
   "cell_type": "code",
   "execution_count": 32,
   "metadata": {
    "scrolled": false
   },
   "outputs": [
    {
     "data": {
      "image/png": "[encoded data removed]",
      "text/plain": [
       "<Figure size 432x288 with 1 Axes>"
      ]
     },
     "metadata": {
      "needs_background": "light"
     },
     "output_type": "display_data"
    }
   ],
   "source": [
    "plt.hist(abs(pdA_hfh_S_1_mo - diff_hfh_S_1_mo).ravel(), bins=np.logspace(np.log10(1e-10),np.log10(1e-4), 50))\n",
    "plt.gca().set_xscale(\"log\")"
   ]
  },
  {
   "cell_type": "code",
   "execution_count": 60,
   "metadata": {},
   "outputs": [],
   "source": [
    "diff_hfh_e = NumericDiff(mol, lambda mol : HFHelper(mol).e).get_numdif()"
   ]
  },
  {
   "cell_type": "code",
   "execution_count": 61,
   "metadata": {},
   "outputs": [
    {
     "data": {
      "image/png": "[encoded data removed]",
      "text/plain": [
       "<Figure size 432x288 with 1 Axes>"
      ]
     },
     "metadata": {
      "needs_background": "light"
     },
     "output_type": "display_data"
    }
   ],
   "source": [
    "plt.hist(abs(e_1 - diff_hfh_e).ravel(), bins=np.logspace(np.log10(1e-10),np.log10(1e-4), 50))\n",
    "plt.gca().set_xscale(\"log\")"
   ]
  },
  {
   "cell_type": "code",
   "execution_count": 51,
   "metadata": {},
   "outputs": [
    {
     "data": {
      "text/plain": [
       "True"
      ]
     },
     "execution_count": 51,
     "metadata": {},
     "output_type": "execute_result"
    }
   ],
   "source": [
    "np.allclose(\n",
    "    hfh.B_1[:, :, sv, so],\n",
    "    + hfh.F_1_mo[:, :, sv, so]\n",
    "    - np.einsum(\"Atai, i -> Atai\", hfh.S_1_mo[:, :, sv, so], eo)\n",
    "    - 0.5 * hfh.Ax0_Core(sv, so, so, so)(hfh.S_1_mo[:, :, so, so])\n",
    ")"
   ]
  },
  {
   "cell_type": "code",
   "execution_count": 84,
   "metadata": {},
   "outputs": [],
   "source": [
    "def mol_to_hfh_B_1_vo(mol):\n",
    "    hfh = HFHelper(mol)\n",
    "    #return hfh.F_1_mo[:, :, sv, so]\n",
    "    #return - np.einsum(\"Atai, i -> Atai\", hfh.S_1_mo[:, :, sv, so], hfh.eo)\n",
    "    #return - 0.5 * hfh.Ax0_Core(sv, so, so, so)(hfh.S_1_mo[:, :, so, so])\n",
    "    return hfh.B_1[:, :, sv, so]\n",
    "\n",
    "diff_hfh_B_1_vo = NumericDiff(mol, mol_to_hfh_B_1_vo, deriv=2, symm=False).get_numdif()"
   ]
  },
  {
   "cell_type": "code",
   "execution_count": 85,
   "metadata": {},
   "outputs": [],
   "source": [
    "pdA_hfh_B_1_vo = (\n",
    "    + pdA_hfh_F_1_mo[:, :, :, :, sv, so]\n",
    "    - np.einsum(\"Atai, Bsi -> ABtsai\", hfh.S_1_mo[:, :, sv, so], eo_1)\n",
    "    - np.einsum(\"ABtsai, i -> ABtsai\", pdA_hfh_S_1_mo[:, :, :, :, sv, so], eo)\n",
    "    - 0.5 * hfh.Ax1_Core(sv, so, so, so)(hfh.S_1_mo[:, :, so, so]).swapaxes(0, 1).swapaxes(2, 3)\n",
    "    - 0.5 * np.einsum(\"Bspa, Atpi -> ABtsai\", U_1[:, :, :, sv], hfh.Ax0_Core(sa, so, so, so)(hfh.S_1_mo[:, :, so, so]))\n",
    "    - 0.5 * np.einsum(\"Bspi, Atpa -> ABtsai\", U_1[:, :, :, so], hfh.Ax0_Core(sa, sv, so, so)(hfh.S_1_mo[:, :, so, so]))\n",
    "    - 1 * hfh.Ax0_Core(sv, so, sa, so)(np.einsum(\"Bspk, Atkl -> ABtspl\", U_1[:, :, :, so], hfh.S_1_mo[:, :, so, so]))\n",
    "    - 0.5 * hfh.Ax0_Core(sv, so, so, so)(pdA_hfh_S_1_mo[:, :, :, :, so, so])\n",
    ")"
   ]
  },
  {
   "cell_type": "code",
   "execution_count": 86,
   "metadata": {},
   "outputs": [
    {
     "data": {
      "image/png": "[encoded data removed]",
      "text/plain": [
       "<Figure size 432x288 with 1 Axes>"
      ]
     },
     "metadata": {
      "needs_background": "light"
     },
     "output_type": "display_data"
    }
   ],
   "source": [
    "plt.hist(abs(pdA_hfh_B_1_vo - diff_hfh_B_1_vo).ravel(), bins=np.logspace(np.log10(1e-10),np.log10(1e-4), 50))\n",
    "plt.gca().set_xscale(\"log\")"
   ]
  },
  {
   "cell_type": "code",
   "execution_count": null,
   "metadata": {},
   "outputs": [],
   "source": []
  },
  {
   "cell_type": "code",
   "execution_count": null,
   "metadata": {},
   "outputs": [],
   "source": []
  },
  {
   "cell_type": "code",
   "execution_count": 87,
   "metadata": {},
   "outputs": [],
   "source": [
    "E_UU_contrib2 = (\n",
    "    - 2 * np.einsum(\"Atki, Bski -> ABts\", hfh.S_1_mo[:, :, so, so], pdA_nch_F_0_mo[:, :, so, so])\n",
    "    - 2 * np.einsum(\"ABtski, ki -> ABts\", pdA_hfh_S_1_mo[:, :, :, :, so, so], nch.F_0_mo[so, so])\n",
    ")"
   ]
  },
  {
   "cell_type": "code",
   "execution_count": 88,
   "metadata": {},
   "outputs": [],
   "source": [
    "RHS = np.zeros((natm, 3, nvir, nocc))\n",
    "RHS += pdA_nch_F_0_mo[:, :, sv, so]\n",
    "\n",
    "RHS += hfh.Ax1_Core(sv, so, sv, so)(np.array([[Z_1]]))[:, 0, :, 0]\n",
    "RHS += np.einsum(\"Atpa, pi -> Atai\", U_1[:, :, :, sv], hfh.Ax0_Core(sa, so, sv, so)(Z_1))\n",
    "RHS += np.einsum(\"Atpi, ap -> Atai\", U_1[:, :, :, so], hfh.Ax0_Core(sv, sa, sv, so)(Z_1))\n",
    "RHS += hfh.Ax0_Core(sv, so, sa, so)(np.einsum(\"Atmp, pq -> Atmq\", U_1[:, :, :, sv], Z_1))\n",
    "RHS += hfh.Ax0_Core(sv, so, sv, sa)(np.einsum(\"Atmq, pq -> Atpm\", U_1[:, :, :, so], Z_1))\n",
    "\n",
    "RHS += Z_1 * (ev_1[:, :, :, None] - eo_1[:, :, None, :])"
   ]
  },
  {
   "cell_type": "code",
   "execution_count": null,
   "metadata": {},
   "outputs": [],
   "source": []
  },
  {
   "cell_type": "code",
   "execution_count": 97,
   "metadata": {},
   "outputs": [],
   "source": [
    "def mol_to_Z_1(mol):\n",
    "    hfh = HFHelper(mol)\n",
    "    nch = GGAHelper(mol, \"b3lypg\", mol_to_grids(mol), init_scf=False)\n",
    "    ncengine = NCGGAEngine(hfh, nch)\n",
    "    return ncengine.Z_1\n",
    "diff_Z_1 = NumericDiff(mol, mol_to_Z_1).get_numdif()"
   ]
  },
  {
   "cell_type": "code",
   "execution_count": 98,
   "metadata": {},
   "outputs": [],
   "source": [
    "pdA_Z_1 = scf.cphf.solve(hfh.Ax0_Core(sv, so, sv, so), e, hfh.mo_occ, RHS, max_cycle=100, tol=1e-13)[0].reshape(natm, 3, nvir, nocc)"
   ]
  },
  {
   "cell_type": "code",
   "execution_count": 99,
   "metadata": {},
   "outputs": [
    {
     "data": {
      "image/png": "[encoded data removed]",
      "text/plain": [
       "<Figure size 432x288 with 1 Axes>"
      ]
     },
     "metadata": {
      "needs_background": "light"
     },
     "output_type": "display_data"
    }
   ],
   "source": [
    "plt.hist(abs(pdA_Z_1 - diff_Z_1).ravel(), bins=np.logspace(np.log10(1e-10),np.log10(1e-4), 50))\n",
    "plt.gca().set_xscale(\"log\")"
   ]
  },
  {
   "cell_type": "code",
   "execution_count": null,
   "metadata": {},
   "outputs": [],
   "source": []
  },
  {
   "cell_type": "code",
   "execution_count": null,
   "metadata": {},
   "outputs": [],
   "source": []
  },
  {
   "cell_type": "code",
   "execution_count": 102,
   "metadata": {},
   "outputs": [],
   "source": [
    "E_UU_contrib1 = (\n",
    "    + 4 * np.einsum(\"Atai, Bsai -> ABts\", hfh.B_1[:, :, sv, so], pdA_Z_1)\n",
    "    + 4 * np.einsum(\"ABtsai, ai -> ABts\", pdA_hfh_B_1_vo, Z_1)\n",
    ")"
   ]
  },
  {
   "cell_type": "code",
   "execution_count": 103,
   "metadata": {},
   "outputs": [],
   "source": [
    "E_UU_contrib2 = (\n",
    "    - 2 * np.einsum(\"Atki, Bski -> ABts\", hfh.S_1_mo[:, :, so, so], pdA_nch_F_0_mo[:, :, so, so])\n",
    "    - 2 * np.einsum(\"ABtski, ki -> ABts\", pdA_hfh_S_1_mo[:, :, :, :, so, so], nch.F_0_mo[so, so])\n",
    ")"
   ]
  },
  {
   "cell_type": "code",
   "execution_count": 105,
   "metadata": {},
   "outputs": [
    {
     "data": {
      "text/plain": [
       "True"
      ]
     },
     "execution_count": 105,
     "metadata": {},
     "output_type": "execute_result"
    }
   ],
   "source": [
    "np.allclose(\n",
    "    E_UU_contrib1 + E_UU_contrib2 + E_SU_part_ref,\n",
    "    ncengine.E_SU + ncengine.E_UU\n",
    ")"
   ]
  },
  {
   "cell_type": "code",
   "execution_count": null,
   "metadata": {},
   "outputs": [],
   "source": []
  },
  {
   "cell_type": "code",
   "execution_count": null,
   "metadata": {},
   "outputs": [],
   "source": []
  },
  {
   "cell_type": "code",
   "execution_count": null,
   "metadata": {},
   "outputs": [],
   "source": []
  },
  {
   "cell_type": "code",
   "execution_count": null,
   "metadata": {},
   "outputs": [],
   "source": []
  },
  {
   "cell_type": "code",
   "execution_count": null,
   "metadata": {},
   "outputs": [],
   "source": []
  },
  {
   "cell_type": "code",
   "execution_count": null,
   "metadata": {},
   "outputs": [],
   "source": []
  },
  {
   "cell_type": "code",
   "execution_count": null,
   "metadata": {},
   "outputs": [],
   "source": []
  }
 ],
 "metadata": {
  "kernelspec": {
   "display_name": "Python 3",
   "language": "python",
   "name": "python3"
  },
  "language_info": {
   "codemirror_mode": {
    "name": "ipython",
    "version": 3
   },
   "file_extension": ".py",
   "mimetype": "text/x-python",
   "name": "python",
   "nbconvert_exporter": "python",
   "pygments_lexer": "ipython3",
   "version": "3.7.3"
  }
 },
 "nbformat": 4,
 "nbformat_minor": 2
}
