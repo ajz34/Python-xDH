{
 "cells": [
  {
   "cell_type": "markdown",
   "metadata": {},
   "source": [
    "# MP2 相关基础"
   ]
  },
  {
   "cell_type": "markdown",
   "metadata": {},
   "source": [
    "尽管 MP2 的了解对非自洽 DFT 的问题没有帮助，但我们可以将这一节作为使用 SCF 结果的一个范例．"
   ]
  },
  {
   "cell_type": "code",
   "execution_count": null,
   "metadata": {},
   "outputs": [],
   "source": [
    "import numpy as np\n",
    "from pyscf import scf, gto, lib, mp\n",
    "from functools import partial\n",
    "\n",
    "import sys\n",
    "sys.path.append('../../src')\n",
    "from utilities import val_from_fchk\n",
    "\n",
    "np.einsum = partial(np.einsum, optimize=[\"greedy\", 1024 ** 3 * 2 / 8])\n",
    "np.set_printoptions(5, linewidth=150, suppress=True)"
   ]
  },
  {
   "cell_type": "code",
   "execution_count": null,
   "metadata": {},
   "outputs": [],
   "source": [
    "mol = gto.Mole()\n",
    "mol.atom = \"\"\"\n",
    "O  0.0  0.0  0.0\n",
    "O  0.0  0.0  1.5\n",
    "H  1.5  0.0  0.0\n",
    "H  0.0  0.7  1.5\n",
    "\"\"\"\n",
    "mol.basis = \"6-31G\"\n",
    "mol.verbose = 0\n",
    "mol.build()"
   ]
  },
  {
   "cell_type": "code",
   "execution_count": null,
   "metadata": {},
   "outputs": [],
   "source": [
    "scf_eng = scf.RHF(mol)\n",
    "scf_eng.conv_tol = 1e-12\n",
    "scf_eng.conv_tol_grad = 1e-10\n",
    "scf_eng.kernel()"
   ]
  },
  {
   "cell_type": "markdown",
   "metadata": {},
   "source": [
    "## PySCF MP2 计算"
   ]
  },
  {
   "cell_type": "markdown",
   "metadata": {},
   "source": [
    "PySCF 的 MP2 计算可以通过下述代码实现："
   ]
  },
  {
   "cell_type": "code",
   "execution_count": null,
   "metadata": {},
   "outputs": [],
   "source": [
    "mp2_eng = mp.MP2(scf_eng)\n",
    "mp2_eng.kernel()[0]"
   ]
  },
  {
   "cell_type": "markdown",
   "metadata": {},
   "source": [
    "上述的输出是体系的相关矫正能 $E_\\mathrm{MP2, c}$．"
   ]
  },
  {
   "cell_type": "markdown",
   "metadata": {},
   "source": [
    "我们可以将上述计算结果与 [Gaussian 结果](include/basic_mp2/mp2_energy.gjf) 进行比对："
   ]
  },
  {
   "cell_type": "code",
   "execution_count": null,
   "metadata": {},
   "outputs": [],
   "source": [
    "np.allclose(\n",
    "    val_from_fchk(\"MP2 Energy\", \"include/basic_mp2/mp2_energy.fchk\"),\n",
    "    mp2_eng.e_tot\n",
    ")"
   ]
  },
  {
   "cell_type": "markdown",
   "metadata": {},
   "source": [
    "## 小型 MP2 程序"
   ]
  },
  {
   "cell_type": "markdown",
   "metadata": {},
   "source": [
    "在我们继续 MP2 程序之前，我们需要定义一些 SCF 过程中所经常用到的变量．"
   ]
  },
  {
   "cell_type": "markdown",
   "metadata": {},
   "source": [
    "### 分子相关量定义"
   ]
  },
  {
   "cell_type": "markdown",
   "metadata": {},
   "source": [
    "* `nmo` 分子电子数\n",
    "\n",
    "* `nao` 原子轨道数\n",
    "\n",
    "* `natm` 原子数\n",
    "\n",
    "* `nocc` 占据轨道数\n",
    "\n",
    "* `nvir` 未占轨道数\n",
    "\n",
    "* `so` 占据轨道分割\n",
    "\n",
    "* `sv` 未占轨道分割\n",
    "\n",
    "* `sa` 全轨道分割"
   ]
  },
  {
   "cell_type": "code",
   "execution_count": null,
   "metadata": {},
   "outputs": [],
   "source": [
    "nmo = nao = mol.nao\n",
    "natm = mol.natm\n",
    "nocc = mol.nelec[0]\n",
    "nvir = nmo - nocc\n",
    "so = slice(0, nocc)\n",
    "sv = slice(nocc, nmo)\n",
    "sa = slice(0, nmo)"
   ]
  },
  {
   "cell_type": "markdown",
   "metadata": {},
   "source": [
    "### 自洽场计算相关量"
   ]
  },
  {
   "cell_type": "markdown",
   "metadata": {},
   "source": [
    "* `C` 系数矩阵 $C_{\\mu p}$\n",
    "\n",
    "* `e` 轨道能量 $\\varepsilon_p$\n",
    "\n",
    "* `Co` 占据轨道系数矩阵 $C_{\\mu i}$\n",
    "\n",
    "* `Cv` 未占轨道系数矩阵 $C_{\\mu a}$\n",
    "\n",
    "* `eo` 占据轨道能量 $\\varepsilon_i$\n",
    "\n",
    "* `ev` 未占轨道能量 $\\varepsilon_a$\n",
    "\n",
    "* `D` 密度矩阵 $D_{\\mu \\nu}$\n",
    "\n",
    "* `F_0_ao` AO 基组 Fock 矩阵 $F_{\\mu \\nu}$\n",
    "\n",
    "* `F_0_mo` MO 基组 Fock 矩阵 $F_{pq}$ (为对角阵)\n",
    "\n",
    "* `H_0_ao` AO 基组 Hamiltonian Core 矩阵 $h_{\\mu \\nu}$\n",
    "\n",
    "* `H_0_mo` MO 基组 Hamiltonian Core 矩阵 $h_{pq}$\n",
    "\n",
    "* `eri0_ao` AO 基组双电子互斥积分 $(\\mu \\nu | \\kappa \\lambda)$\n",
    "\n",
    "* `eri0_mo` MO 基组双电子互斥积分 $(pq | rs)$\n",
    "\n",
    "* `mo_occ` 轨道占据数"
   ]
  },
  {
   "cell_type": "code",
   "execution_count": null,
   "metadata": {},
   "outputs": [],
   "source": [
    "C       = scf_eng.mo_coeff\n",
    "e       = scf_eng.mo_energy\n",
    "Co      = C[:, so]\n",
    "Cv      = C[:, sv]\n",
    "eo      = e[so]\n",
    "ev      = e[sv]\n",
    "D       = 2 * Co @ Co.T\n",
    "F_0_ao  = scf_eng.get_fock()\n",
    "F_0_mo  = C @ F_0_ao @ C.T\n",
    "H_0_ao  = scf_eng.get_hcore()\n",
    "H_0_mo  = C @ H_0_ao @ C.T\n",
    "eri0_ao = mol.intor(\"int2e\")\n",
    "eri0_mo = np.einsum(\"uvkl, up, vq, kr, ls -> pqrs\", eri0_ao, C, C, C, C)\n",
    "mo_occ  = scf_eng.mo_occ"
   ]
  },
  {
   "cell_type": "markdown",
   "metadata": {},
   "source": [
    "### MP2 计算"
   ]
  },
  {
   "cell_type": "markdown",
   "metadata": {},
   "source": [
    "事实上刚刚我们已经把 MP2 中计算量最大的部分，即 MO 基组的原子轨道已经生成出来了．在 RHF 下，MP2 计算表现为 (Szabo, (6.74))\n",
    "\n",
    "$$\n",
    "E_\\mathrm{MP2, c} = \\frac{(ia|jb) \\big( 2 (ia|jb) - (ib|ja) \\big)}{\\varepsilon_i - \\varepsilon_a + \\varepsilon_j - \\varepsilon_b}\n",
    "$$"
   ]
  },
  {
   "cell_type": "markdown",
   "metadata": {},
   "source": [
    "因此，剩下来需要我们做的事仅仅是\n",
    "\n",
    "* 定义关于 $i, a, j, b$ 的张量 `e_ovov` $\\varepsilon_{ij}^{ab} = \\varepsilon_i - \\varepsilon_a + \\varepsilon_j - \\varepsilon_b$ \n",
    "\n",
    "* 为了程序书写方便而新建一个 ndarray 的视图 (View，即一个 ndarray 的浅复制) `eri0_ovov` $(ia|jb)$"
   ]
  },
  {
   "cell_type": "code",
   "execution_count": null,
   "metadata": {},
   "outputs": [],
   "source": [
    "e_ovov = eo[:, None, None, None] - ev[None, :, None, None] + eo[None, None, :, None] - ev[None, None, None, :]\n",
    "eri0_ovov = eri0_mo[so, sv, so, sv]\n",
    "E_MP2c = (eri0_ovov * (2 * eri0_ovov - eri0_ovov.swapaxes(1, 3)) / e_ovov).sum()"
   ]
  },
  {
   "cell_type": "markdown",
   "metadata": {},
   "source": [
    "我们能验证生成出来的 MP2 相关能的结果："
   ]
  },
  {
   "cell_type": "code",
   "execution_count": null,
   "metadata": {},
   "outputs": [],
   "source": [
    "np.allclose(\n",
    "    mp2_eng.emp2,\n",
    "    E_MP2c\n",
    ")"
   ]
  }
 ],
 "metadata": {
  "kernelspec": {
   "display_name": "Python 3",
   "language": "python",
   "name": "python3"
  },
  "language_info": {
   "codemirror_mode": {
    "name": "ipython",
    "version": 3
   },
   "file_extension": ".py",
   "mimetype": "text/x-python",
   "name": "python",
   "nbconvert_exporter": "python",
   "pygments_lexer": "ipython3",
   "version": "3.6.6"
  }
 },
 "nbformat": 4,
 "nbformat_minor": 2
}
