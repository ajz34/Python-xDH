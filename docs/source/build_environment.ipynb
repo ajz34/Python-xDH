{
 "cells": [
  {
   "cell_type": "markdown",
   "metadata": {},
   "source": [
    "# 环境搭建"
   ]
  },
  {
   "cell_type": "markdown",
   "metadata": {},
   "source": [
    "在这份文档中，我们会大量使用 Python 与 PySCF，并通常使用 Jupyter Notebook 进行笔记记录与程序呈现．因此，在开始这份笔记之前，我们需要先搭建好程序环境．"
   ]
  },
  {
   "cell_type": "markdown",
   "metadata": {},
   "source": [
    "## Python 环境"
   ]
  },
  {
   "cell_type": "markdown",
   "metadata": {},
   "source": [
    "在这里，我们使用 PyPI 进行库管理．"
   ]
  },
  {
   "cell_type": "markdown",
   "metadata": {},
   "source": [
    "<div class=\"alert alert-info\">\n",
    "\n",
    "**提示**\n",
    "\n",
    "Python 的库管理工具有许多；一般来说，最常用的 PyPI 是 Python 社区支持的库索引，Anaconda 则是另一个大型的社区库索引．PyPI 的库管理工具是 `pip`，而 Anaconda 的库管理工具是 `conda`．\n",
    "\n",
    "由于一方面，conda 管理工具的效率较低；另一个更重要的原因是 PySCF 并不在 Anaconda 库索引中，因此我们使用 pip 管理当前的 Python 库．大多数情况下，我们可以同时使用两者进行库管理．\n",
    "\n",
    "</div>"
   ]
  },
  {
   "cell_type": "markdown",
   "metadata": {},
   "source": [
    "对于我们目前的工作，安装必须库所执行的命令是\n",
    "\n",
    "    $ pip install numpy pyscf jupyter"
   ]
  },
  {
   "cell_type": "markdown",
   "metadata": {},
   "source": [
    "<div class=\"alert alert-info\">\n",
    "\n",
    "**任务**\n",
    "\n",
    "1. 先在用户目录下安装一个 Python 发行版．Python 发行版可以是 [官方发行版](https://www.python.org/downloads/)，但更通常的做法是使用 [Anaconda 发行版](https://mirror.tuna.tsinghua.edu.cn/anaconda/archive/?C=M&O=D)．请尽量不要安装 Python 3.6 以下的版本．\n",
    "\n",
    "2. 安装后，请先执行 `python`，并在 Bash 下执行 `which python` 查看 Python 可执行文件是否正确．若不正确，请向 `$HOME/.bash_profile` 或 `$HOME/.bashrc` 中修改 `PATH` 路径．\n",
    "\n",
    "3. (可选) 根据 [清华镜像 PyPI 帮助](https://mirror.tuna.tsinghua.edu.cn/help/pypi/) 文档的指示，修改默认 PyPI 索引镜像，以加速 Python 库的下载速度；若使用 Anaconda 管理，还可以查看 [中科大 Anaconda 帮助](https://mirrors.ustc.edu.cn/help/anaconda.html) (清华镜像在 2019-04-16 由于授权问题无限期关闭)．\n",
    "\n",
    "4. (可选) 有时，我们想要在一套全新干净的 Python 环境中工作；有时，会碰到 Python 库依赖冲突的问题．在这种情况下，我们可以考虑使用虚环境解决这些问题．若只用 PyPI 进行库管理，可以使用 [virtualenv](https://virtualenv.pypa.io/en/latest/userguide/) 进行管理 (一份有用的中文帮助可以参考 [廖雪峰的博文](https://www.liaoxuefeng.com/wiki/0014316089557264a6b348958f449949df42a6d3a2e542c000/001432712108300322c61f256c74803b43bfd65c6f8d0d0000))．如果使用 conda 进行库管理，开可以使用 `conda create` 构建新的虚环境；可以在 Bash 下执行 `conda create -h` 查看帮助与示例．\n",
    "\n",
    "5. (可选) 在了解如何构建虚环境后，可以考虑将在一个新的虚环境中使用 Intel 提供的 Python 主程序与各种关键的数学库．可以参照 [Intel Python PyPI 安装文档](https://software.intel.com/en-us/articles/installing-the-intel-distribution-for-python-and-intel-performance-libraries-with-pip-and) 配置你的 Python 环境．\n",
    "\n",
    "6. (可选) 如果我们还希望通过一阶梯度信息进行几何结构优化，一个方便的 Python 库是 [berny 库](https://jan.hermann.name/pyberny/)．安装方式如下：\n",
    "\n",
    "    ```\n",
    "    $ pip install pyberny\n",
    "    ```\n",
    "\n",
    "</div>"
   ]
  },
  {
   "cell_type": "markdown",
   "metadata": {},
   "source": [
    "在服务器上，默认情况下我们可能无法连接到互联网．一种解决方案是使用信息办提供的脚本．解决方案文档请参考\n",
    "\n",
    "    10.158.163.59:/share/home/zyzhu/Documents-Shared/group_related/2019-01-09-how_to_connect_internet.markdown"
   ]
  },
  {
   "cell_type": "markdown",
   "metadata": {},
   "source": [
    "## PySCF 环境"
   ]
  },
  {
   "cell_type": "markdown",
   "metadata": {},
   "source": [
    "绝大多数情况下，我们无需更改 PySCF 的代码来实现我们的目的．但是，为了理解 PySCF 的程序运行过程与结果，拥有 PySCF 的可执行的代码比只有 PySCF 作为库的 API 文档要方便得多．但是，获得代码的目的并非修改，而是理解．"
   ]
  },
  {
   "cell_type": "markdown",
   "metadata": {},
   "source": [
    "<div class=\"alert alert-warning\">\n",
    "\n",
    "**注意**\n",
    "\n",
    "我们在以前的软件 Hacking 过程中，经常会通过语句打印来了解程序运行流程与结果；并通过修改程序以引入新的功能．\n",
    "\n",
    "但若用常识思考，打印语句其实不是很便利，而修改程序则是非常危险的行为．即使使用版本控制工具，也可能因为使用不善造成工作损失，或者在代码更改历史中迷失方向．\n",
    "\n",
    "对于面向对象语言，在已有程序上实现新功能可以通过类的继承于重载来实现．事实上，这个思想在 Gaussian 的工作流程中已经很充分地体现，但区别是 Gaussian 事实上是通过对已有函数的重新实现来完成继承与重载，因此 Gaussian 的工作流程是安全的．但大多数其它 Fortran 与 C 语言 (或者写得不友好的 C++ 程序) 的软件难以做到这一点．当然，面向对象的优势不只具有修改程序的安全性，毕竟“面向对象”的本来的主要意义是使用类 (Class) 打包方法 (method function) 与成员 (member)，不过这是后话．\n",
    "\n",
    "而程序流程的控制与结果的打印则可以通过集成编译环境 (IDE) 不更改代码地通过打断点，并使用代码逐步执行的功能实现．对于 Python，一般来说还支持在程序运行过程中计算数据．\n",
    "\n",
    "</div>"
   ]
  },
  {
   "cell_type": "markdown",
   "metadata": {},
   "source": [
    "一般的工作流程会是：\n",
    "\n",
    "* 安装 Python IDE；一般的首选是 PyCharm．对于学生可以使用 [PyCharm Professional](https://www.jetbrains.com/student/)．\n",
    "\n",
    "* 从 PySCF 的程序库下载源代码，并在联网情况下按照 [指示](https://sunqm.github.io/pyscf/install.html) 先编译一遍．由于积分库、DFT 泛函库是外接的，因此务必保证联网．编译是为了将 C++ 代码变成可执行文件，而不是将 Python 代码编译为可执行文件或库．\n",
    "\n",
    "* PySCF 必须在 Linux 或 Mac 环境下使用．如果要在 Windows 电脑上使用 IDE 环境，两种可能的解决方案是：在 Windows 上 [安装 WSL 环境](https://docs.microsoft.com/en-us/windows/wsl/install-win10)，或者使用 PyCharm 的远程功能．\n",
    "\n",
    "* 最后需要确认程序可以运行．在代码库中的任意文件夹内，程序的运行脚本一般地与直接使用 PySCF 作为 Python 库的代码是相同的，因此光靠代码可以被执行未必能判断程序编译与运行正确．一种方法是在没有安装 PySCF 库的 Python 环境下执行运行脚本，这样运行脚本如果能顺利地运行，那么一定走的是编译的版本；另一种方法是在编译的 PySCF 程序的 Python 程序中打断点；若断点被触发那么程序执行顺利．"
   ]
  }
 ],
 "metadata": {
  "kernelspec": {
   "display_name": "Python 3",
   "language": "python",
   "name": "python3"
  },
  "language_info": {
   "codemirror_mode": {
    "name": "ipython",
    "version": 3
   },
   "file_extension": ".py",
   "mimetype": "text/x-python",
   "name": "python",
   "nbconvert_exporter": "python",
   "pygments_lexer": "ipython3",
   "version": "3.7.2"
  }
 },
 "nbformat": 4,
 "nbformat_minor": 2
}
