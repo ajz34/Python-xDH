{
 "cells": [
  {
   "cell_type": "markdown",
   "metadata": {},
   "source": [
    "# XYG3 梯度"
   ]
  },
  {
   "cell_type": "markdown",
   "metadata": {},
   "source": [
    "在这一节中，我们会回顾以 GGA 为参考态的梯度性质计算，并最终得到 XYG3 梯度。"
   ]
  },
  {
   "cell_type": "code",
   "execution_count": 1,
   "metadata": {},
   "outputs": [],
   "source": [
    "import numpy as np\n",
    "from pyscf import scf, gto, lib, grad, hessian, dft, mp\n",
    "import pyscf.hessian.rks\n",
    "import pyscf.grad.rks\n",
    "from functools import partial\n",
    "\n",
    "from utilities import val_from_fchk, NumericDiff\n",
    "from hessian import HFHelper, GGAHelper, NCGGAEngine\n",
    "\n",
    "np.einsum = partial(np.einsum, optimize=[\"greedy\", 1024 ** 3 * 2 / 8])\n",
    "np.einsum_path = partial(np.einsum_path, optimize=[\"greedy\", 1024 ** 3 * 2 / 8])\n",
    "np.set_printoptions(6, linewidth=150, suppress=True)"
   ]
  },
  {
   "cell_type": "code",
   "execution_count": 2,
   "metadata": {},
   "outputs": [],
   "source": [
    "mol = gto.Mole()\n",
    "mol.atom = \"\"\"\n",
    "O  0.0  0.0  0.0\n",
    "O  0.0  0.0  1.5\n",
    "H  1.5  0.0  0.0\n",
    "H  0.0  0.7  1.5\n",
    "\"\"\"\n",
    "mol.basis = \"6-31G\"\n",
    "mol.verbose = 0\n",
    "mol.build()\n",
    "\n",
    "def mol_to_grids(mol):\n",
    "    grids = dft.gen_grid.Grids(mol)\n",
    "    grids.atom_grid = (75, 302)\n",
    "    grids.becke_scheme = dft.gen_grid.stratmann\n",
    "    grids.prune = None\n",
    "    grids.build()\n",
    "    return grids\n",
    "grids = mol_to_grids(mol)\n",
    "\n",
    "nmo = nao = mol.nao\n",
    "natm = mol.natm\n",
    "nocc = mol.nelec[0]\n",
    "nvir = nmo - nocc\n",
    "so = slice(0, nocc)\n",
    "sv = slice(nocc, nmo)\n",
    "sa = slice(0, nmo)"
   ]
  },
  {
   "cell_type": "markdown",
   "metadata": {},
   "source": [
    "下面将生成自洽场助手 `scfh`、非自恰泛函 `nch` 与 GGA 非自恰助手 `ncgga`。"
   ]
  },
  {
   "cell_type": "code",
   "execution_count": 3,
   "metadata": {},
   "outputs": [],
   "source": [
    "scfh = GGAHelper(mol, \"b3lypg\", grids)\n",
    "nch = GGAHelper(mol, \"0.8033*HF - 0.0140*LDA + 0.2107*B88, 0.6789*LYP\", mol_to_grids(mol), init_scf=False)\n",
    "ncgga = NCGGAEngine(scfh, nch)"
   ]
  },
  {
   "cell_type": "markdown",
   "metadata": {},
   "source": [
    "## 参考值"
   ]
  },
  {
   "cell_type": "markdown",
   "metadata": {},
   "source": [
    "XYG3 梯度可以分为其非自恰的 GGA 能量与核排斥能量 $E_\\mathrm{elec}^\\mathrm{HF} + E_\\mathrm{elec}^\\mathrm{GGA} + E_\\mathrm{nuc}$ 的梯度贡献与 PT2 能量 $E_\\mathrm{elec}^\\mathrm{MP2}$ 的梯度贡献。这里的记号暂时就不按照正式文献 (Su, JCC 2013) 的走法了。\n",
    "\n",
    "我们以前的文档已经详细地描述如何求取 $\\frac{\\partial}{\\partial A_t} (E_\\mathrm{elec}^\\mathrm{HF} + E_\\mathrm{elec}^\\mathrm{GGA} + E_\\mathrm{nuc})$ 了。下面的代码就是求取了 XYG3 泛函中，除了 PT2 的梯度贡献："
   ]
  },
  {
   "cell_type": "code",
   "execution_count": 4,
   "metadata": {},
   "outputs": [
    {
     "data": {
      "text/plain": [
       "array([[-0.13754 ,  0.016505, -0.018595],\n",
       "       [ 0.009104,  0.722476,  0.044859],\n",
       "       [ 0.12171 ,  0.003139,  0.01583 ],\n",
       "       [ 0.006726, -0.742119, -0.042093]])"
      ]
     },
     "execution_count": 4,
     "metadata": {},
     "output_type": "execute_result"
    }
   ],
   "source": [
    "ncgga.E_1"
   ]
  },
  {
   "cell_type": "markdown",
   "metadata": {},
   "source": [
    "我们下面的任务便是求取 PT2 部分的贡献。"
   ]
  },
  {
   "cell_type": "markdown",
   "metadata": {},
   "source": [
    "用于参考的 [XYG3 梯度](include/mp2_grad/xyg3_grad.gjf) 通过谷永浩在 Gaussian 09 修改的程序所得到："
   ]
  },
  {
   "cell_type": "code",
   "execution_count": 5,
   "metadata": {},
   "outputs": [
    {
     "data": {
      "text/plain": [
       "array([[-0.102274,  0.014222,  0.023366],\n",
       "       [ 0.008586,  0.740529, -0.001475],\n",
       "       [ 0.087769,  0.002763,  0.014506],\n",
       "       [ 0.00592 , -0.757514, -0.036397]])"
      ]
     },
     "execution_count": 5,
     "metadata": {},
     "output_type": "execute_result"
    }
   ],
   "source": [
    "grad_xyg3_ref = val_from_fchk(\"Cartesian Gradient\", \"include/mp2_grad/xyg3_grad.fchk\").reshape((natm, 3))\n",
    "grad_xyg3_ref"
   ]
  },
  {
   "cell_type": "markdown",
   "metadata": {},
   "source": [
    "如果我们已经考虑了 XYG3 下 PT2 贡献的系数 $c_\\mathrm{c} = 0.3211$，那么如果 B3LYP 作为参考态所作的 MP2 能量的梯度应当是下述值："
   ]
  },
  {
   "cell_type": "code",
   "execution_count": 6,
   "metadata": {},
   "outputs": [
    {
     "data": {
      "text/plain": [
       "array([[ 0.109827, -0.007112,  0.130679],\n",
       "       [-0.001616,  0.056224, -0.144299],\n",
       "       [-0.105702, -0.00117 , -0.004122],\n",
       "       [-0.00251 , -0.047943,  0.01774 ]])"
      ]
     },
     "execution_count": 6,
     "metadata": {},
     "output_type": "execute_result"
    }
   ],
   "source": [
    "grad_B3LYP_MP2_ref = (grad_xyg3_ref - ncgga.E_1) / 0.3211\n",
    "grad_B3LYP_MP2_ref"
   ]
  },
  {
   "cell_type": "markdown",
   "metadata": {},
   "source": [
    "后文的主要目的就是重复该梯度值。"
   ]
  },
  {
   "cell_type": "markdown",
   "metadata": {},
   "source": [
    "## XYG3 梯度实现"
   ]
  },
  {
   "cell_type": "markdown",
   "metadata": {},
   "source": [
    "### 分项生成"
   ]
  },
  {
   "cell_type": "markdown",
   "metadata": {},
   "source": [
    "我们首先生成必要的矩阵与张量。这里与以 HF 为参考态的 MP2 并无很大区别；只是我们不再生成完整的双粒子密度，也不使用 Hamiltonian Core Skeleton 梯度；取而代之的是使用 Fock 矩阵的 Skeleton 梯度 `F_1_mo` $F_{pq}^{A_t}$："
   ]
  },
  {
   "cell_type": "code",
   "execution_count": 7,
   "metadata": {},
   "outputs": [],
   "source": [
    "%%capture\n",
    "\n",
    "e, eo, ev = scfh.e, scfh.eo, scfh.ev\n",
    "C, Co, Cv = scfh.C, scfh.Co, scfh.Cv\n",
    "D = scfh.D\n",
    "eri0_mo = scfh.eri0_mo\n",
    "eri1_ao = scfh.eri1_ao\n",
    "\n",
    "S_1_mo = scfh.S_1_mo\n",
    "F_1_mo = scfh.F_1_mo\n",
    "Ax0_Core = scfh.Ax0_Core\n",
    "\n",
    "D_iajb = lib.direct_sum(\"i - a + j - b\", scfh.eo, scfh.ev, scfh.eo, scfh.ev)\n",
    "t_iajb = eri0_mo[so, sv, so, sv] / D_iajb\n",
    "T_iajb = 2 * t_iajb - t_iajb.swapaxes(1, 3)"
   ]
  },
  {
   "cell_type": "markdown",
   "metadata": {},
   "source": [
    "生成弛豫密度 `D_r` $D_{pq}^\\mathrm{MP2}$、加权密度 `D_W` $W_{pq}^\\mathrm{MP2}$ 与不可拆分双粒子密度 `D_pdm2_NS` $\\Gamma_{\\mu \\nu \\kappa \\lambda}^\\mathrm{MP2, NS}$ 的过程与 HF 参考态下也完全一致："
   ]
  },
  {
   "cell_type": "code",
   "execution_count": 9,
   "metadata": {},
   "outputs": [],
   "source": [
    "D_r = np.zeros((nmo, nmo))\n",
    "D_r[so, so] += - 2 * np.einsum(\"iakb, jakb -> ij\", T_iajb, t_iajb)\n",
    "D_r[sv, sv] += 2 * np.einsum(\"iajc, ibjc -> ab\", T_iajb, t_iajb)\n",
    "\n",
    "L = np.zeros((nvir, nocc))\n",
    "L += Ax0_Core(sv, so, sa, sa)(D_r)\n",
    "L -= 4 * np.einsum(\"jakb, ijbk -> ai\", T_iajb, eri0_mo[so, so, sv, so])\n",
    "L += 4 * np.einsum(\"ibjc, abjc -> ai\", T_iajb, eri0_mo[sv, sv, so, sv])\n",
    "\n",
    "D_r[sv, so] = scf.cphf.solve(Ax0_Core(sv, so, sv, so), e, scfh.mo_occ, L, max_cycle=100, tol=1e-13)[0]"
   ]
  },
  {
   "cell_type": "code",
   "execution_count": 10,
   "metadata": {},
   "outputs": [],
   "source": [
    "# W[I] - Correct with s1-im1 term in PySCF\n",
    "D_WI = np.zeros((nmo, nmo))\n",
    "D_WI[so, so] = - 2 * np.einsum(\"iakb, jakb -> ij\", T_iajb, eri0_mo[so, sv, so, sv])\n",
    "D_WI[sv, sv] = - 2 * np.einsum(\"iajc, ibjc -> ab\", T_iajb, eri0_mo[so, sv, so, sv])\n",
    "D_WI[sv, so] = - 4 * np.einsum(\"jakb, ijbk -> ai\", T_iajb, eri0_mo[so, so, sv, so])\n",
    "\n",
    "# W[II] - Correct with s1-zeta term in PySCF\n",
    "# Note that zeta in PySCF includes HF energy weighted density rdm1e\n",
    "# The need of scaler 1 in D_WII[sv, so] is that Aikens use doubled P\n",
    "D_WII = np.zeros((nmo, nmo))\n",
    "D_WII[so, so] = - 0.5 * D_r[so, so] * lib.direct_sum(\"i + j -> ij\", eo, eo)\n",
    "D_WII[sv, sv] = - 0.5 * D_r[sv, sv] * lib.direct_sum(\"a + b -> ab\", ev, ev)\n",
    "D_WII[sv, so] = - D_r[sv, so] * eo\n",
    "\n",
    "# W[III] - Correct with s1-vhf_s1occ term in PySCF\n",
    "D_WIII = np.zeros((nmo, nmo))\n",
    "D_WIII[so, so] = - 0.5 * Ax0_Core(so, so, sa, sa)(D_r)\n",
    "\n",
    "# Summation\n",
    "D_W = D_WI + D_WII + D_WIII"
   ]
  },
  {
   "cell_type": "code",
   "execution_count": 11,
   "metadata": {},
   "outputs": [],
   "source": [
    "# Non-seperatable - Correct with `de` generated in PySCF code part --2e AO integrals dot 2pdm--\n",
    "D_pdm2_NS = 2 * np.einsum(\"iajb, ui, va, kj, lb -> uvkl\", T_iajb, Co, Cv, Co, Cv)"
   ]
  },
  {
   "cell_type": "markdown",
   "metadata": {},
   "source": [
    "### 分项求和"
   ]
  },
  {
   "cell_type": "markdown",
   "metadata": {},
   "source": [
    "我们求以 B3LYP 为参考态的 MP2 梯度时，不能再使用 HF 参考态的公式\n",
    "\n",
    "$$\n",
    "E_\\mathrm{elec}^{\\mathrm{MP2}, A_t} = D_{pq}^\\mathrm{MP2} h_{pq}^{A_t} + W_{pq}^\\mathrm{MP2} S_{pq}^{A_t} + \\Gamma_{\\mu \\nu \\kappa \\lambda}^\\mathrm{MP2} (\\mu \\nu | \\kappa \\lambda)^{A_t}\n",
    "$$"
   ]
  },
  {
   "cell_type": "markdown",
   "metadata": {},
   "source": [
    "这是因为，对于 HF 参考态，\n",
    "\n",
    "$$\n",
    "\\Gamma_{\\mu \\nu \\kappa \\lambda}^\\mathrm{MP2, NS} (\\mu \\nu | \\kappa \\lambda)^{A_t} = \\big( D_{pq}^\\mathrm{MP2} C_{\\mu p} C_{\\nu q} D_{\\kappa \\lambda} - \\frac{1}{2} D_{pq}^\\mathrm{MP2} C_{\\mu p} C_{\\kappa q} D_{\\nu \\lambda} \\big) (\\mu \\nu | \\kappa \\lambda)^{A_t} \\quad \\text{(HF reference)}\n",
    "$$\n",
    "\n",
    "上述一项是从 Fock 矩阵 Skeleton 导数所派生得来。我们应当会注意到，对于 HF 参考态而言，\n",
    "\n",
    "$$\n",
    "D_{pq}^\\mathrm{MP2} F_{pq}^{A_t} = D_{pq}^\\mathrm{MP2} h_{pq}^{A_t} + \\Gamma_{\\mu \\nu \\kappa \\lambda}^\\mathrm{MP2, NS} (\\mu \\nu | \\kappa \\lambda)^{A_t} \\quad \\text{(HF, GGA reference)}\n",
    "$$\n",
    "\n",
    "这个公式对以 B3LYP 为参考态的 MP2 也一样适用。因此，我们使用 $D_{pq}^\\mathrm{MP2} F_{pq}^{A_t}$ 来替代 $\\Gamma_{\\mu \\nu \\kappa \\lambda}^\\mathrm{MP2, NS}$ 与 $h_{pq}^{A_t}$ 两项所产生的贡献：\n",
    "\n",
    "$$\n",
    "E_\\mathrm{elec}^{\\mathrm{MP2}, A_t} = D_{pq}^\\mathrm{MP2} F_{pq}^{A_t} + W_{pq}^\\mathrm{MP2} S_{pq}^{A_t} + \\Gamma_{\\mu \\nu \\kappa \\lambda}^\\mathrm{MP2, NS} (\\mu \\nu | \\kappa \\lambda)^{A_t} \\quad \\text{(HF, GGA reference)}\n",
    "$$"
   ]
  },
  {
   "cell_type": "code",
   "execution_count": 12,
   "metadata": {},
   "outputs": [
    {
     "data": {
      "text/plain": [
       "array([[ 0.109826, -0.007108,  0.130685],\n",
       "       [-0.001614,  0.056212, -0.144301],\n",
       "       [-0.105701, -0.00117 , -0.004126],\n",
       "       [-0.002508, -0.047933,  0.017739]])"
      ]
     },
     "execution_count": 12,
     "metadata": {},
     "output_type": "execute_result"
    }
   ],
   "source": [
    "grad_B3LYP_MP2 = (\n",
    "    + (D_r * F_1_mo).sum(axis=(-1, -2))\n",
    "    + (D_W * S_1_mo).sum(axis=(-1, -2))\n",
    "    + (D_pdm2_NS * eri1_ao).sum(axis=(-1, -2, -3, -4))\n",
    ")\n",
    "grad_B3LYP_MP2"
   ]
  },
  {
   "cell_type": "markdown",
   "metadata": {},
   "source": [
    "我们可以验证上述的计算结果确实是参考结果所给出的 B3LYP 参考态下的 MP2 相关能梯度，但需要稍微把判断标准放低一些。"
   ]
  },
  {
   "cell_type": "code",
   "execution_count": 13,
   "metadata": {},
   "outputs": [
    {
     "data": {
      "text/plain": [
       "True"
      ]
     },
     "execution_count": 13,
     "metadata": {},
     "output_type": "execute_result"
    }
   ],
   "source": [
    "np.allclose(grad_B3LYP_MP2, grad_B3LYP_MP2_ref, atol=1e-5, rtol=1e-4)"
   ]
  },
  {
   "cell_type": "markdown",
   "metadata": {},
   "source": [
    "由此，XYG3 梯度可以由下述代码给出："
   ]
  },
  {
   "cell_type": "code",
   "execution_count": 14,
   "metadata": {},
   "outputs": [
    {
     "data": {
      "text/plain": [
       "array([[-0.102274,  0.014222,  0.023366],\n",
       "       [ 0.008586,  0.740529, -0.001475],\n",
       "       [ 0.087769,  0.002763,  0.014506],\n",
       "       [ 0.00592 , -0.757514, -0.036397]])"
      ]
     },
     "execution_count": 14,
     "metadata": {},
     "output_type": "execute_result"
    }
   ],
   "source": [
    "ncgga.E_1 + 0.3211 * grad_B3LYP_MP2_ref"
   ]
  },
  {
   "cell_type": "code",
   "execution_count": 15,
   "metadata": {},
   "outputs": [
    {
     "data": {
      "text/plain": [
       "True"
      ]
     },
     "execution_count": 15,
     "metadata": {},
     "output_type": "execute_result"
    }
   ],
   "source": [
    "np.allclose(\n",
    "    ncgga.E_1 + 0.3211 * grad_B3LYP_MP2,\n",
    "    grad_xyg3_ref,\n",
    "    atol=1e-6, rtol=1e-4\n",
    ")"
   ]
  },
  {
   "cell_type": "markdown",
   "metadata": {},
   "source": [
    "最后，我们指出，上述代码除开比较大内存靠小意外，也这不是生成 XYG3 梯度的最高效的方案，因为上述过程执行了两次 Z-Vector 和两次与 $(\\mu \\nu | \\kappa \\lambda)^{A_t}$ 有关的计算。因此，在真正的程序实践中 (譬如 Su, JCC, 2013)，应当要与非自恰 GGA 梯度的计算过程整合起来。"
   ]
  }
 ],
 "metadata": {
  "kernelspec": {
   "display_name": "Python 3",
   "language": "python",
   "name": "python3"
  },
  "language_info": {
   "codemirror_mode": {
    "name": "ipython",
    "version": 3
   },
   "file_extension": ".py",
   "mimetype": "text/x-python",
   "name": "python",
   "nbconvert_exporter": "python",
   "pygments_lexer": "ipython3",
   "version": "3.7.1"
  }
 },
 "nbformat": 4,
 "nbformat_minor": 2
}
