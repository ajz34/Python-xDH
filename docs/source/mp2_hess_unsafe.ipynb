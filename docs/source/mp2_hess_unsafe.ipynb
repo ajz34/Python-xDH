{
 "cells": [
  {
   "cell_type": "markdown",
   "metadata": {},
   "source": [
    "# MP2 二阶梯度：非安全做法"
   ]
  },
  {
   "cell_type": "markdown",
   "metadata": {},
   "source": [
    "这份文档将会实现 MP2 二阶梯度；我们将从 MP2 一阶梯度的公式出发，进行最初步的推导，得到可以程序化的二阶 MP2 解析梯度。但这份文档并不关注解法的合理性，即允许 $U_{ij}^{A_t}$, $U_{ab}^{A_t}$, $U_{ai}^{A_t B_s}$ 等不安全项出现。"
   ]
  },
  {
   "cell_type": "code",
   "execution_count": 1,
   "metadata": {},
   "outputs": [],
   "source": [
    "import numpy as np\n",
    "from pyscf import scf, gto, lib, grad, hessian, dft, mp\n",
    "import pyscf.hessian.rks\n",
    "import pyscf.grad.rks\n",
    "from functools import partial\n",
    "import pickle\n",
    "\n",
    "from utilities import val_from_fchk, NumericDiff\n",
    "from hessian import HFHelper, GGAHelper\n",
    "\n",
    "np.einsum = partial(np.einsum, optimize=[\"greedy\", 1024 ** 3 * 2 / 8])\n",
    "np.einsum_path = partial(np.einsum_path, optimize=[\"greedy\", 1024 ** 3 * 2 / 8])\n",
    "np.set_printoptions(6, linewidth=150, suppress=True)"
   ]
  },
  {
   "cell_type": "code",
   "execution_count": 2,
   "metadata": {},
   "outputs": [],
   "source": [
    "mol = gto.Mole()\n",
    "mol.atom = \"\"\"\n",
    "O  0.0  0.0  0.0\n",
    "O  0.0  0.0  1.5\n",
    "H  1.5  0.0  0.0\n",
    "H  0.0  0.7  1.5\n",
    "\"\"\"\n",
    "mol.basis = \"6-31G\"\n",
    "mol.verbose = 0\n",
    "mol.build()\n",
    "\n",
    "nmo = nao = mol.nao\n",
    "natm = mol.natm\n",
    "nocc = mol.nelec[0]\n",
    "nvir = nmo - nocc\n",
    "so = slice(0, nocc)\n",
    "sv = slice(nocc, nmo)\n",
    "sa = slice(0, nmo)"
   ]
  },
  {
   "cell_type": "code",
   "execution_count": 3,
   "metadata": {},
   "outputs": [
    {
     "name": "stderr",
     "output_type": "stream",
     "text": [
      "/share/home/zyzhu/Git-Repo/Python-xDH/pyxdh/hessian/hf_helper.py:366: UserWarning: U_1: Generating total U matrix should be considered as numerical unstable!\n",
      "  warnings.warn(\"U_1: Generating total U matrix should be considered as numerical unstable!\")\n",
      "/share/home/zyzhu/Git-Repo/Python-xDH/pyxdh/hessian/hf_helper.py:229: UserWarning: eri0_mo: ERI AO -> MO is quite expensive!\n",
      "  warnings.warn(\"eri0_mo: ERI AO -> MO is quite expensive!\")\n",
      "/share/home/zyzhu/Git-Repo/Python-xDH/pyxdh/hessian/hf_helper.py:222: UserWarning: eri0_ao: ERI should not be stored in memory! Consider J/K engines!\n",
      "  warnings.warn(\"eri0_ao: ERI should not be stored in memory! Consider J/K engines!\")\n",
      "/share/home/zyzhu/Git-Repo/Python-xDH/pyxdh/hessian/hf_helper.py:279: UserWarning: eri1_mo: 4-idx tensor ERI should be not used!\n",
      "  warnings.warn(\"eri1_mo: 4-idx tensor ERI should be not used!\")\n",
      "/share/home/zyzhu/Git-Repo/Python-xDH/pyxdh/hessian/hf_helper.py:272: UserWarning: eri1_ao: 4-idx tensor ERI should be not used!\n",
      "  warnings.warn(\"eri1_ao: 4-idx tensor ERI should be not used!\")\n",
      "/share/home/zyzhu/Git-Repo/Python-xDH/pyxdh/hessian/hf_helper.py:317: UserWarning: eri2_mo: 4-idx tensor ERI should be not used!\n",
      "  warnings.warn(\"eri2_mo: 4-idx tensor ERI should be not used!\")\n",
      "/share/home/zyzhu/Git-Repo/Python-xDH/pyxdh/hessian/hf_helper.py:310: UserWarning: eri2_ao: 4-idx tensor ERI should be not used!\n",
      "  warnings.warn(\"eri2_ao: 4-idx tensor ERI should be not used!\")\n"
     ]
    },
    {
     "data": {
      "text/plain": [
       "<hessian.hf_helper.HFHelper at 0x2b143ff8ab70>"
      ]
     },
     "execution_count": 3,
     "metadata": {},
     "output_type": "execute_result"
    }
   ],
   "source": [
    "# We use U_2 in this document\n",
    "# Pre-generate some code here will make later work quicker\n",
    "# But these operations are numerical-unstable or memory consuming\n",
    "hfh = HFHelper(mol)\n",
    "hfh.U_2_vo\n",
    "hfh.eri0_mo\n",
    "hfh.eri1_mo\n",
    "hfh.eri2_mo\n",
    "hfh"
   ]
  },
  {
   "cell_type": "markdown",
   "metadata": {},
   "source": [
    "## MP2 二阶梯度：参考值"
   ]
  },
  {
   "cell_type": "markdown",
   "metadata": {},
   "source": [
    "在与 MP2 Hessian 相关的 [资源文件夹](include/mp2_hess) 下，我们可以拿通过 PySCF 的 MP2 梯度对象进行数值导数的结果与 Gaussian 提供的 MP2 Hessian 结果进行比对："
   ]
  },
  {
   "cell_type": "code",
   "execution_count": 4,
   "metadata": {
    "code_folding": []
   },
   "outputs": [
    {
     "data": {
      "text/plain": [
       "True"
      ]
     },
     "execution_count": 4,
     "metadata": {},
     "output_type": "execute_result"
    }
   ],
   "source": [
    "with open(\"include/mp2_hess/mp2_hess_num.dat\", \"rb\") as f:\n",
    "    hess_mp2_pyscf_num = pickle.load(f)[\"grad_mp2_diff\"]\n",
    "\n",
    "d_hess = mol.natm * 3\n",
    "np.allclose(\n",
    "    hess_mp2_pyscf_num.swapaxes(1, 2).reshape(d_hess, d_hess)[np.tril_indices(d_hess)],\n",
    "    val_from_fchk(\"Cartesian Force Constants\", \"include/mp2_hess/mp2_hess.fchk\"),\n",
    "    atol=1e-7\n",
    ")"
   ]
  },
  {
   "cell_type": "markdown",
   "metadata": {},
   "source": [
    "上述的梯度值是 MP2 总能量的二阶梯度；因此，MP2 相关能的二阶梯度的参考值可以通过下述方法生成："
   ]
  },
  {
   "cell_type": "code",
   "execution_count": 5,
   "metadata": {},
   "outputs": [],
   "source": [
    "g_array = val_from_fchk(\"Cartesian Force Constants\", \"include/mp2_hess/mp2_hess.fchk\")\n",
    "hess_mp2_gaussian = np.zeros((d_hess, d_hess))\n",
    "p = 0\n",
    "for d1 in range(d_hess):\n",
    "    for d2 in range(d1 + 1):\n",
    "        hess_mp2_gaussian[d1][d2] = hess_mp2_gaussian[d2][d1] = g_array[p]\n",
    "        p += 1\n",
    "hess_mp2_gaussian = hess_mp2_gaussian.reshape((natm, 3, natm, 3)).swapaxes(1, 2)"
   ]
  },
  {
   "cell_type": "code",
   "execution_count": 6,
   "metadata": {},
   "outputs": [],
   "source": [
    "hess_mp2_ref = hess_mp2_gaussian - hfh.scf_hess.kernel()"
   ]
  },
  {
   "cell_type": "markdown",
   "metadata": {},
   "source": [
    "## MP2 一阶梯度：重新表述"
   ]
  },
  {
   "cell_type": "markdown",
   "metadata": {},
   "source": [
    "在我们继续 MP2 二阶梯度前，我们先简要回顾一下 MP2 的一阶梯度。我们除了要定义一些重要的中间变量之外，也需要将一阶梯度的表达式重新塑造成容易推导二阶梯度的表达形式上。"
   ]
  },
  {
   "cell_type": "markdown",
   "metadata": {},
   "source": [
    "### 重要变量定义"
   ]
  },
  {
   "cell_type": "code",
   "execution_count": 7,
   "metadata": {},
   "outputs": [
    {
     "data": {
      "text/plain": [
       "array([[-0.102293,  0.014371,  0.031588],\n",
       "       [ 0.008573,  0.75439 , -0.009366],\n",
       "       [ 0.087807,  0.00276 ,  0.014487],\n",
       "       [ 0.005914, -0.77152 , -0.036708]])"
      ]
     },
     "execution_count": 7,
     "metadata": {},
     "output_type": "execute_result"
    }
   ],
   "source": [
    "mp2_eng = mp.MP2(hfh.scf_eng)\n",
    "mp2_eng.kernel()[0]\n",
    "mp2_grad = grad.mp2.Gradients(mp2_eng)\n",
    "mp2_grad.kernel()"
   ]
  },
  {
   "cell_type": "code",
   "execution_count": 8,
   "metadata": {},
   "outputs": [],
   "source": [
    "%%capture\n",
    "\n",
    "e, eo, ev = hfh.e, hfh.eo, hfh.ev\n",
    "C, Co, Cv = hfh.C, hfh.Co, hfh.Cv\n",
    "D = hfh.D\n",
    "eri0_mo = hfh.eri0_mo\n",
    "eri1_mo = hfh.eri1_mo\n",
    "eri2_mo = hfh.eri2_mo\n",
    "\n",
    "F_1_mo = hfh.F_1_mo\n",
    "S_1_mo = hfh.S_1_mo\n",
    "U_1 = hfh.U_1\n",
    "U_1_vo = hfh.U_1_vo\n",
    "U_2_vo = hfh.U_2_vo\n",
    "B_1 = hfh.B_1\n",
    "B_2 = hfh._get_B_2()\n",
    "Ax0_Core = hfh.Ax0_Core\n",
    "\n",
    "D_iajb = lib.direct_sum(\"i - a + j - b\", hfh.eo, hfh.ev, hfh.eo, hfh.ev)"
   ]
  },
  {
   "cell_type": "markdown",
   "metadata": {},
   "source": [
    "在后续计算中，我们还会使用到全轨道的 $U_{pq}^{A_t B_s}$；在这里，我们用类似于生成 $U_{pq}^{A_t}$ 的方式生成该张量："
   ]
  },
  {
   "cell_type": "code",
   "execution_count": 9,
   "metadata": {},
   "outputs": [],
   "source": [
    "D_pq = - lib.direct_sum(\"p - q -> pq\", e, e) + 1e-300\n",
    "U_2 = np.zeros((natm, natm, 3, 3, nmo, nmo))\n",
    "U_2[:, :, :, :, sv, so] = U_2_vo\n",
    "U_2[:, :, :, :, so, sv] = - hfh.Xi_2[:, :, :, :, so, sv] - U_2[:, :, :, :, sv, so].swapaxes(-1, -2)\n",
    "U_2[:, :, :, :, so, so] = (Ax0_Core(so, so, sv, so)(U_2_vo) + B_2[:, :, :, :, so, so]) / D_pq[so, so]\n",
    "U_2[:, :, :, :, sv, sv] = (Ax0_Core(sv, sv, sv, so)(U_2_vo) + B_2[:, :, :, :, sv, sv]) / D_pq[sv, sv]\n",
    "for p in range(nmo):\n",
    "    U_2[:, :, :, :, p, p] = - hfh.Xi_2[:, :, :, :, p, p] / 2\n",
    "U_2 -= (U_2 + U_2.swapaxes(-1, -2) + hfh.Xi_2) / 2\n",
    "U_2 -= (U_2 + U_2.swapaxes(-1, -2) + hfh.Xi_2) / 2"
   ]
  },
  {
   "cell_type": "markdown",
   "metadata": {},
   "source": [
    "### 重塑表达式"
   ]
  },
  {
   "cell_type": "markdown",
   "metadata": {},
   "source": [
    "我们现在将 MP2 二阶梯度的表达式重新表述，方便以后的项求导。"
   ]
  },
  {
   "cell_type": "markdown",
   "metadata": {},
   "source": [
    "方才用于验证生成矩阵和张量正确性的代码块中，用到的梯度公式是\n",
    "\n",
    "$$\n",
    "E_\\mathrm{elec}^{\\mathrm{MP2}, A_t} = D_{pq}^\\mathrm{MP2} F_{pq}^{A_t} + W_{pq}^\\mathrm{MP2} S_{pq}^{A_t} + T_{ij}^{ab} (ia|jb)^{A_t}\n",
    "$$\n",
    "\n",
    "但上述公式不方便求导。我们采用以前提过的不安全的推导方法，重新推导 MP2 的一阶梯度；进而整理推导过程，为二阶梯度的推导作准备。"
   ]
  },
  {
   "cell_type": "markdown",
   "metadata": {},
   "source": [
    "首先，我们指出，\n",
    "\n",
    "$$\n",
    "E_\\mathrm{elec}^{\\mathrm{MP2}} = T_{ij}^{ab} t_{ij}^{ab} D_{ij}^{ab}\n",
    "$$"
   ]
  },
  {
   "cell_type": "markdown",
   "metadata": {},
   "source": [
    "但这种写法，在推导 $\\frac{\\partial}{\\partial A_t} T_{ij}^{ab}$ 与 $\\frac{\\partial}{\\partial A_t} t_{ij}^{ab}$ 会带来麻烦；因此，我们新定义以下记号 (类似于 Helgaker)：\n",
    "\n",
    "* `g_mo`: $g_{pq}^{rs} = (pq|rs)$\n",
    "\n",
    "* `G_mo`: $\\tilde g_{pq}^{rs} = 2 g_{pq}^{rs} - g_{pq}^{sr}$\n",
    "\n",
    "这只是出于公式与程序表达方便而写。$g_{pq}^{rs}$ 就是 `eri0_mo` 的表达式。同时，我们记分割\n",
    "\n",
    "* `g_iajb`: $g_{ij}^{ab}$\n",
    "\n",
    "* `G_iajb`: $\\tilde g_{ij}^{ab}$"
   ]
  },
  {
   "cell_type": "code",
   "execution_count": 10,
   "metadata": {},
   "outputs": [],
   "source": [
    "g_mo = eri0_mo\n",
    "G_mo = 2 * g_mo - g_mo.swapaxes(-1, -3)\n",
    "g_iajb = g_mo[so, sv, so, sv]\n",
    "G_iajb = G_mo[so, sv, so, sv]"
   ]
  },
  {
   "cell_type": "markdown",
   "metadata": {},
   "source": [
    "因此，\n",
    "\n",
    "$$\n",
    "E_\\mathrm{elec}^{\\mathrm{MP2}} = \\tilde g_{ij}^{ab} g_{ij}^{ab} (D_{ij}^{ab})^{-1}\n",
    "$$"
   ]
  },
  {
   "cell_type": "code",
   "execution_count": 11,
   "metadata": {},
   "outputs": [
    {
     "data": {
      "text/plain": [
       "True"
      ]
     },
     "execution_count": 11,
     "metadata": {},
     "output_type": "execute_result"
    }
   ],
   "source": [
    "np.allclose((g_iajb * G_iajb / D_iajb).sum(), mp2_eng.e_corr)"
   ]
  },
  {
   "cell_type": "markdown",
   "metadata": {},
   "source": [
    "我们进而定义轨道能导数 (这个导数不区分 $\\partial_{A_t}$ 或 $\\partial_{A_t}^\\mathrm{U}$)\n",
    "\n",
    "* `e_1`: $\\varepsilon_p^{A_t} = \\frac{\\partial}{\\partial A_t} \\varepsilon_p = B_{pp}^{A_t} + A_{pp, bj} U_{bj}^{A_t}$\n",
    "\n",
    "* `eo_1, ev_1`: 占据与非占的分割"
   ]
  },
  {
   "cell_type": "code",
   "execution_count": 12,
   "metadata": {},
   "outputs": [],
   "source": [
    "e_1 = (B_1 + Ax0_Core(sa, sa, sv, so)(U_1_vo)).diagonal(0, -1, -2)\n",
    "eo_1, ev_1 = e_1[:, :, so], e_1[:, :, sv]"
   ]
  },
  {
   "cell_type": "markdown",
   "metadata": {},
   "source": [
    "上述项的定义可以用于 $D_{ij}^{ab}$ 的导数中。我们可以通过对轨道能求梯度来验证上述解析轨道能梯度是否生成正确："
   ]
  },
  {
   "cell_type": "code",
   "execution_count": 13,
   "metadata": {},
   "outputs": [],
   "source": [
    "def mol_to_e_0(mol):\n",
    "    scfh = HFHelper(mol)\n",
    "    return scfh.e\n",
    "e_1_num = NumericDiff(mol, mol_to_e_0).get_numdif()"
   ]
  },
  {
   "cell_type": "code",
   "execution_count": 14,
   "metadata": {},
   "outputs": [
    {
     "data": {
      "text/plain": [
       "True"
      ]
     },
     "execution_count": 14,
     "metadata": {},
     "output_type": "execute_result"
    }
   ],
   "source": [
    "np.allclose(e_1_num, e_1, rtol=1e-4)"
   ]
  },
  {
   "cell_type": "markdown",
   "metadata": {},
   "source": [
    "同理，我们还可以定义轨道能的二阶导数：\n",
    "\n",
    "* `e_2`: $\\varepsilon_p^{A_t B_s} = \\frac{\\partial^2}{\\partial A_t B_s} \\varepsilon_p = B_{pp}^{A_t B_s} + A_{pp, bj} U_{bj}^{A_t B_s}$\n",
    "\n",
    "* `eo_2, ev_2`: 占据与非占的分割"
   ]
  },
  {
   "cell_type": "code",
   "execution_count": 15,
   "metadata": {},
   "outputs": [],
   "source": [
    "e_2 = (B_2 + Ax0_Core(sa, sa, sv, so)(U_2_vo)).diagonal(0, -1, -2)\n",
    "eo_2, ev_2 = e_2[:, :, :, :, so], e_2[:, :, :, :, sv]"
   ]
  },
  {
   "cell_type": "markdown",
   "metadata": {},
   "source": [
    "我们尽管也可以用数值方法验证上述的结果正确，但耗时较长。这里将验证的代码注释了。"
   ]
  },
  {
   "cell_type": "code",
   "execution_count": 16,
   "metadata": {},
   "outputs": [],
   "source": [
    "# def mol_to_e_1(mol):\n",
    "#     scfh = HFHelper(mol)\n",
    "#     return (scfh.B_1 + scfh.Ax0_Core(sa, sa, sv, so)(scfh.U_1_vo)).diagonal(0, -1, -2)\n",
    "# e_2_num = NumericDiff(mol, mol_to_e_1, deriv=2).get_numdif()"
   ]
  },
  {
   "cell_type": "code",
   "execution_count": 17,
   "metadata": {},
   "outputs": [],
   "source": [
    "# np.allclose(e_2_num, e_2, atol=1e-5, rtol=5e-4)"
   ]
  },
  {
   "cell_type": "markdown",
   "metadata": {},
   "source": [
    "由已知的定义，我们可以导出\n",
    "\n",
    "* `pd_g_mo`: $\\partial_{A_t} g_{ij}^{ab} = (ia|jb)^{A_t}$ (全轨道)\n",
    "\n",
    "* `pdU_g_mo`: $\\partial_{A_t}^\\mathrm{U} g_{ij}^{ab} = g_{pj}^{ab} U_{pi}^{A_t} + g_{ip}^{ab} U_{pj}^{A_t} + g_{ij}^{pb} U_{pa}^{A_t} + g_{ij}^{ap} U_{pb}^{A_t}$ (全轨道)\n",
    "\n",
    "* `pdA_g_mo`: $\\frac{\\partial}{\\partial A_t} g_{ij}^{ab} = (\\partial_{A_t} + \\partial_{A_t}^\\mathrm{U}) g_{ij}^{ab} = (ia|jb)^{A_t}$ (全轨道)\n",
    "\n",
    "* `pdA_G_mo`: $\\frac{\\partial}{\\partial A_t} \\tilde g_{ij}^{ab} = 2 \\frac{\\partial}{\\partial A_t} g_{ij}^{ab} - \\frac{\\partial}{\\partial A_t} g_{ij}^{ba}$ (全轨道)\n",
    "\n",
    "* `pdA_D_iajb`: $\\frac{\\partial}{\\partial A_t} D_{ij}^{ab} = \\varepsilon_i^{A_t} - \\varepsilon_a^{A_t} + \\varepsilon_j^{A_t} - \\varepsilon_b^{A_t}$\n",
    "\n",
    "以及占据-非占-占据-非占的分割 `pdA_g_iajb`, `pdA_G_iajb`："
   ]
  },
  {
   "cell_type": "code",
   "execution_count": 18,
   "metadata": {},
   "outputs": [],
   "source": [
    "pd_g_mo = eri1_mo\n",
    "pdU_g_mo = (\n",
    "    + np.einsum(\"pjkl, Atpi -> Atijkl\", g_mo, U_1)\n",
    "    + np.einsum(\"ipkl, Atpj -> Atijkl\", g_mo, U_1)\n",
    "    + np.einsum(\"ijpl, Atpk -> Atijkl\", g_mo, U_1)\n",
    "    + np.einsum(\"ijkp, Atpl -> Atijkl\", g_mo, U_1)\n",
    ")\n",
    "pdA_g_mo = pd_g_mo + pdU_g_mo\n",
    "\n",
    "pdA_G_mo = 2 * pdA_g_mo - pdA_g_mo.swapaxes(-1, -3)\n",
    "\n",
    "pdA_g_iajb = pdA_g_mo[:, :, so, sv, so, sv]\n",
    "pdA_G_iajb = pdA_G_mo[:, :, so, sv, so, sv]\n",
    "\n",
    "pdA_D_iajb = (\n",
    "    + eo_1[:, :, :, None, None, None]\n",
    "    - ev_1[:, :, None, :, None, None]\n",
    "    + eo_1[:, :, None, None, :, None]\n",
    "    - ev_1[:, :, None, None, None, :]\n",
    ")"
   ]
  },
  {
   "cell_type": "markdown",
   "metadata": {},
   "source": [
    "<div class=\"alert alert-info\">\n",
    "\n",
    "**提醒**\n",
    "\n",
    "我们曾经经常使用 `pyscf.lib.direct_sum` 来执行直和计算；但 PySCF 的直和在维度增大时会出现过大的内存占用。因此，这里使用相对不太直观的 ndarray Broadcasting 方法计算直和。\n",
    "\n",
    "</div>"
   ]
  },
  {
   "cell_type": "markdown",
   "metadata": {},
   "source": [
    "因此，MP2 的梯度可以写作以下表达式：\n",
    "\n",
    "$$\n",
    "E_\\mathrm{elec}^{\\mathrm{MP2}, A_t} =\n",
    "(\\frac{\\partial}{\\partial A_t} \\tilde g_{ij}^{ab}) g_{ij}^{ab} (D_{ij}^{ab})^{-1}\n",
    "+ \\tilde g_{ij}^{ab} (\\frac{\\partial}{\\partial A_t} g_{ij}^{ab}) (D_{ij}^{ab})^{-1}\n",
    "- \\tilde g_{ij}^{ab} g_{ij}^{ab} (\\frac{\\partial}{\\partial A_t} D_{ij}^{ab}) (D_{ij}^{ab})^{-2}\n",
    "$$"
   ]
  },
  {
   "cell_type": "code",
   "execution_count": 21,
   "metadata": {},
   "outputs": [
    {
     "data": {
      "text/plain": [
       "True"
      ]
     },
     "execution_count": 21,
     "metadata": {},
     "output_type": "execute_result"
    }
   ],
   "source": [
    "grad_mp2_ref = mp2_grad.de - hfh.scf_grad.kernel()\n",
    "np.allclose(\n",
    "    + np.einsum(\"Atiajb, iajb, iajb -> At\", pdA_G_iajb, g_iajb, 1 / D_iajb)\n",
    "    + np.einsum(\"iajb, Atiajb, iajb -> At\", G_iajb, pdA_g_iajb, 1 / D_iajb)\n",
    "    - np.einsum(\"iajb, iajb, Atiajb, iajb -> At\", G_iajb, g_iajb, pdA_D_iajb, 1 / D_iajb**2)\n",
    "    ,\n",
    "    grad_mp2_ref\n",
    ")"
   ]
  },
  {
   "cell_type": "markdown",
   "metadata": {},
   "source": [
    "## MP2 二阶梯度：非安全初步实践"
   ]
  },
  {
   "cell_type": "markdown",
   "metadata": {},
   "source": [
    "\\begin{align}\n",
    "E_\\mathrm{elec}^{\\mathrm{MP2}, A_t B_s} =\n",
    "&\n",
    "% First\n",
    "% (\\frac{\\partial}{\\partial A_t} \\tilde g_{ij}^{ab}) g_{ij}^{ab} (D_{ij}^{ab})^{-1}\n",
    "+ (\\frac{\\partial}{\\partial A_t} \\frac{\\partial}{\\partial B_s} \\tilde g_{ij}^{ab}) g_{ij}^{ab} (D_{ij}^{ab})^{-1}\n",
    "+ (\\frac{\\partial}{\\partial A_t} \\tilde g_{ij}^{ab}) (\\frac{\\partial}{\\partial B_s} g_{ij}^{ab}) (D_{ij}^{ab})^{-1}\n",
    "- (\\frac{\\partial}{\\partial A_t} \\tilde g_{ij}^{ab}) g_{ij}^{ab} (\\frac{\\partial}{\\partial B_s} D_{ij}^{ab}) (D_{ij}^{ab})^{-2}\n",
    "\\\\&\n",
    "% Second\n",
    "% \\tilde g_{ij}^{ab} (\\frac{\\partial}{\\partial A_t} g_{ij}^{ab}) (D_{ij}^{ab})^{-1}\n",
    "+ (\\frac{\\partial}{\\partial B_s} \\tilde g_{ij}^{ab}) (\\frac{\\partial}{\\partial A_t} g_{ij}^{ab}) (D_{ij}^{ab})^{-1}\n",
    "+ \\tilde g_{ij}^{ab} (\\frac{\\partial}{\\partial A_t} \\frac{\\partial}{\\partial B_s} g_{ij}^{ab}) (D_{ij}^{ab})^{-1}\n",
    "- \\tilde g_{ij}^{ab} (\\frac{\\partial}{\\partial A_t} g_{ij}^{ab}) (\\frac{\\partial}{\\partial B_s} D_{ij}^{ab}) (D_{ij}^{ab})^{-2}\n",
    "\\\\&\n",
    "% Third\n",
    "% \\tilde g_{ij}^{ab} g_{ij}^{ab} (\\frac{\\partial}{\\partial A_t} D_{ij}^{ab}) (D_{ij}^{ab})^{-2}\n",
    "- (\\frac{\\partial}{\\partial B_s} \\tilde g_{ij}^{ab}) g_{ij}^{ab} (\\frac{\\partial}{\\partial A_t} D_{ij}^{ab}) (D_{ij}^{ab})^{-2}\n",
    "- \\tilde g_{ij}^{ab} (\\frac{\\partial}{\\partial B_s} g_{ij}^{ab}) (\\frac{\\partial}{\\partial A_t} D_{ij}^{ab}) (D_{ij}^{ab})^{-2}\n",
    "- \\tilde g_{ij}^{ab} g_{ij}^{ab} (\\frac{\\partial}{\\partial A_t} \\frac{\\partial}{\\partial B_s} D_{ij}^{ab}) (D_{ij}^{ab})^{-2}\n",
    "+ 2 \\tilde g_{ij}^{ab} g_{ij}^{ab} (\\frac{\\partial}{\\partial A_t} D_{ij}^{ab}) (\\frac{\\partial}{\\partial B_s} D_{ij}^{ab}) (D_{ij}^{ab})^{-3}\n",
    "\\end{align}"
   ]
  },
  {
   "cell_type": "markdown",
   "metadata": {},
   "source": [
    "在二阶梯度的生成中，我们还需要额外地生成分项 $\\frac{\\partial}{\\partial A_t} \\frac{\\partial}{\\partial B_s} g_{ij}^{ab}$ 与 $\\frac{\\partial}{\\partial A_t} \\frac{\\partial}{\\partial B_s} D_{ij}^{ab}$。后者的生成非常方便：\n",
    "\n",
    "* `pdA_pdA_D_iajb`: $\\frac{\\partial}{\\partial A_t} \\frac{\\partial}{\\partial B_s} D_{ij}^{ab}$\n",
    "\n",
    "$$\n",
    "\\frac{\\partial}{\\partial A_t} \\frac{\\partial}{\\partial B_s} D_{ij}^{ab} = \\varepsilon_i^{A_t B_s} - \\varepsilon_a^{A_t B_s} + \\varepsilon_j^{A_t B_s} - \\varepsilon_b^{A_t B_s}\n",
    "$$"
   ]
  },
  {
   "cell_type": "code",
   "execution_count": 22,
   "metadata": {},
   "outputs": [],
   "source": [
    "pdA_pdA_D_iajb = (\n",
    "    + eo_2[:, :, :, :, :, None, None, None]\n",
    "    - ev_2[:, :, :, :, None, :, None, None]\n",
    "    + eo_2[:, :, :, :, None, None, :, None]\n",
    "    - ev_2[:, :, :, :, None, None, None, :]\n",
    ")"
   ]
  },
  {
   "cell_type": "markdown",
   "metadata": {},
   "source": [
    "但前者的生成需要一些功夫。我们先定义以下的小分项：\n",
    "\n",
    "* `pdU_U_1`: $\\partial_{A_t}^\\mathrm{U} U_{pq}^{B_s}$\n",
    "\n",
    "* `pd_pd_g_mo`: $\\partial_{A_t} \\partial_{B_s} g_{ij}^{ab}$\n",
    "\n",
    "* `pdU_pd_g_mo`: $\\partial_{A_t}^\\mathrm{U} \\partial_{B_s} g_{ij}^{ab}$\n",
    "\n",
    "* `pd_pdU_g_mo`: $\\partial_{A_t} \\partial_{B_s}^\\mathrm{U} g_{ij}^{ab} = \\partial_{A_t}^\\mathrm{U} \\partial_{B_s} g_{ij}^{ab}$\n",
    "\n",
    "* `pdU_pdU_g_mo`: $\\partial_{A_t}^\\mathrm{U} \\partial_{B_s}^\\mathrm{U} g_{ij}^{ab}$"
   ]
  },
  {
   "cell_type": "markdown",
   "metadata": {},
   "source": [
    "$$\n",
    "\\partial_{A_t}^\\mathrm{U} U_{pq}^{B_s} = \\frac{\\partial}{\\partial A_t} U_{pq}^{B_s} = U_{pq}^{A_t B_s} - U_{pm}^{A_t} U_{mq}^{B_s}\n",
    "$$"
   ]
  },
  {
   "cell_type": "markdown",
   "metadata": {},
   "source": [
    "\\begin{align}\n",
    "\\partial_{A_t} \\partial_{B_s} g_{ij}^{ab} &= (ij|ab)^{A_t B_s}\n",
    "\\\\\n",
    "\\partial_{A_t}^\\mathrm{U} \\partial_{B_s} g_{ij}^{ab} &=\n",
    "(\\partial_{A_t} g_{pj}^{ab}) U_{pi}^{B_s} +\n",
    "(\\partial_{A_t} g_{ip}^{ab}) U_{pj}^{B_s} +\n",
    "(\\partial_{A_t} g_{ij}^{pb}) U_{pa}^{B_s} +\n",
    "(\\partial_{A_t} g_{ij}^{ap}) U_{pb}^{B_s}\n",
    "\\\\\n",
    "\\partial_{A_t}^\\mathrm{U} \\partial_{B_s}^\\mathrm{U} g_{ij}^{ab} &=\n",
    "(\\partial_{A_t}^\\mathrm{U} g_{pj}^{ab}) U_{pi}^{B_s} +\n",
    "(\\partial_{A_t}^\\mathrm{U} g_{ip}^{ab}) U_{pj}^{B_s} +\n",
    "(\\partial_{A_t}^\\mathrm{U} g_{ij}^{pb}) U_{pa}^{B_s} +\n",
    "(\\partial_{A_t}^\\mathrm{U} g_{ij}^{ap}) U_{pb}^{B_s} +\n",
    "\\\\&\\quad\n",
    "g_{pj}^{ab} (\\partial_{A_t}^\\mathrm{U} U_{pi}^{B_s}) + \n",
    "g_{ip}^{ab} (\\partial_{A_t}^\\mathrm{U} U_{pj}^{B_s}) + \n",
    "g_{ij}^{pb} (\\partial_{A_t}^\\mathrm{U} U_{pa}^{B_s}) + \n",
    "g_{ij}^{ap} (\\partial_{A_t}^\\mathrm{U} U_{pb}^{B_s})\n",
    "\\end{align}"
   ]
  },
  {
   "cell_type": "code",
   "execution_count": 23,
   "metadata": {},
   "outputs": [],
   "source": [
    "pdU_U_1 = U_2 - np.einsum(\"Atpm, Bsmq -> ABtspq\", U_1, U_1)\n",
    "pd_pd_g_mo = eri2_mo\n",
    "pdU_pd_g_mo = (\n",
    "    # pd on g\n",
    "    + np.einsum(\"Atpjkl, Bspi -> ABtsijkl\", pd_g_mo, U_1)\n",
    "    + np.einsum(\"Atipkl, Bspj -> ABtsijkl\", pd_g_mo, U_1)\n",
    "    + np.einsum(\"Atijpl, Bspk -> ABtsijkl\", pd_g_mo, U_1)\n",
    "    + np.einsum(\"Atijkp, Bspl -> ABtsijkl\", pd_g_mo, U_1)\n",
    ")\n",
    "pd_pdU_g_mo = pdU_pd_g_mo.swapaxes(0, 1).swapaxes(2, 3)\n",
    "pdU_pdU_g_mo = (\n",
    "    # pdU on g * U\n",
    "    + np.einsum(\"Atpjkl, Bspi -> ABtsijkl\", pdU_g_mo, U_1)\n",
    "    + np.einsum(\"Atipkl, Bspj -> ABtsijkl\", pdU_g_mo, U_1)\n",
    "    + np.einsum(\"Atijpl, Bspk -> ABtsijkl\", pdU_g_mo, U_1)\n",
    "    + np.einsum(\"Atijkp, Bspl -> ABtsijkl\", pdU_g_mo, U_1)\n",
    "    # g * pdU on U\n",
    "    + np.einsum(\"pjkl, ABtspi -> ABtsijkl\", g_mo, pdU_U_1)\n",
    "    + np.einsum(\"ipkl, ABtspj -> ABtsijkl\", g_mo, pdU_U_1)\n",
    "    + np.einsum(\"ijpl, ABtspk -> ABtsijkl\", g_mo, pdU_U_1)\n",
    "    + np.einsum(\"ijkp, ABtspl -> ABtsijkl\", g_mo, pdU_U_1)\n",
    ")"
   ]
  },
  {
   "cell_type": "markdown",
   "metadata": {},
   "source": [
    "我们应当能验证 $\\partial_{A_t}^\\mathrm{U} \\partial_{B_s}^\\mathrm{U} g_{ij}^{ab}$ 是关于 $(A_t, B_s)$ 对称的，即使从其等式右边来看并不那么显然："
   ]
  },
  {
   "cell_type": "code",
   "execution_count": 24,
   "metadata": {},
   "outputs": [
    {
     "data": {
      "text/plain": [
       "True"
      ]
     },
     "execution_count": 24,
     "metadata": {},
     "output_type": "execute_result"
    }
   ],
   "source": [
    "np.allclose(pdU_pdU_g_mo, pdU_pdU_g_mo.swapaxes(0, 1).swapaxes(2, 3))"
   ]
  },
  {
   "cell_type": "markdown",
   "metadata": {},
   "source": [
    "由此，可以定义分项\n",
    "\n",
    "* `pdA_pdA_g_mo`: $\\frac{\\partial}{\\partial A_t} \\frac{\\partial}{\\partial B_s} g_{ij}^{ab}$\n",
    "\n",
    "* `pdA_pdA_G_mo`: $\\frac{\\partial}{\\partial A_t} \\frac{\\partial}{\\partial B_s} \\tilde g_{ij}^{ab}$\n",
    "\n",
    "以及它们在占据-非占-占据-非占下的分割 `pdA_pdA_g_iajb`, `pdA_pdA_G_iajb`："
   ]
  },
  {
   "cell_type": "markdown",
   "metadata": {},
   "source": [
    "$$\n",
    "\\frac{\\partial}{\\partial A_t} \\frac{\\partial}{\\partial B_s} g_{ij}^{ab}\n",
    "= \\partial_{A_t} \\partial_{B_s} g_{ij}^{ab} + \\partial_{A_t}^\\mathrm{U} \\partial_{B_s} g_{ij}^{ab} + \\partial_{A_t} \\partial_{B_s}^\\mathrm{U} g_{ij}^{ab} + \\partial_{A_t}^\\mathrm{U} \\partial_{B_s}^\\mathrm{U} g_{ij}^{ab}\n",
    "$$"
   ]
  },
  {
   "cell_type": "markdown",
   "metadata": {},
   "source": [
    "$$\n",
    "\\frac{\\partial}{\\partial A_t} \\frac{\\partial}{\\partial B_s} \\tilde g_{ij}^{ab} = 2 \\frac{\\partial}{\\partial A_t} \\frac{\\partial}{\\partial B_s} g_{ij}^{ab} - \\frac{\\partial}{\\partial A_t} \\frac{\\partial}{\\partial B_s} g_{ij}^{ba}\n",
    "$$"
   ]
  },
  {
   "cell_type": "code",
   "execution_count": 25,
   "metadata": {},
   "outputs": [],
   "source": [
    "pdA_pdA_g_mo = pd_pd_g_mo + pd_pdU_g_mo + pdU_pd_g_mo + pdU_pdU_g_mo\n",
    "pdA_pdA_G_mo = 2 * pdA_pdA_g_mo - pdA_pdA_g_mo.swapaxes(-1, -3)\n",
    "pdA_pdA_g_iajb = pdA_pdA_g_mo[:, :, :, :, so, sv, so, sv]\n",
    "pdA_pdA_G_iajb = pdA_pdA_G_mo[:, :, :, :, so, sv, so, sv]"
   ]
  },
  {
   "cell_type": "code",
   "execution_count": 26,
   "metadata": {},
   "outputs": [],
   "source": [
    "pdA_pdA_g_iajb = pdA_pdA_g_mo[:, :, :, :, so, sv, so, sv]\n",
    "pdA_pdA_G_iajb = pdA_pdA_G_mo[:, :, :, :, so, sv, so, sv]"
   ]
  },
  {
   "cell_type": "markdown",
   "metadata": {},
   "source": [
    "由此，我们已经将计算 MP2 二阶梯度所必要的分项都得以生成。最后，我们列出非安全的 MP2 二阶梯度表达式："
   ]
  },
  {
   "cell_type": "markdown",
   "metadata": {},
   "source": [
    "\\begin{align}\n",
    "E_\\mathrm{elec}^{\\mathrm{MP2}, A_t B_s} =\n",
    "&\n",
    "% First\n",
    "% (\\frac{\\partial}{\\partial A_t} \\tilde g_{ij}^{ab}) g_{ij}^{ab} (D_{ij}^{ab})^{-1}\n",
    "+ (\\frac{\\partial}{\\partial A_t} \\frac{\\partial}{\\partial B_s} \\tilde g_{ij}^{ab}) g_{ij}^{ab} (D_{ij}^{ab})^{-1}\n",
    "+ (\\frac{\\partial}{\\partial A_t} \\tilde g_{ij}^{ab}) (\\frac{\\partial}{\\partial B_s} g_{ij}^{ab}) (D_{ij}^{ab})^{-1}\n",
    "- (\\frac{\\partial}{\\partial A_t} \\tilde g_{ij}^{ab}) g_{ij}^{ab} (\\frac{\\partial}{\\partial B_s} D_{ij}^{ab}) (D_{ij}^{ab})^{-2}\n",
    "\\\\&\n",
    "% Second\n",
    "% \\tilde g_{ij}^{ab} (\\frac{\\partial}{\\partial A_t} g_{ij}^{ab}) (D_{ij}^{ab})^{-1}\n",
    "+ (\\frac{\\partial}{\\partial B_s} \\tilde g_{ij}^{ab}) (\\frac{\\partial}{\\partial A_t} g_{ij}^{ab}) (D_{ij}^{ab})^{-1}\n",
    "+ \\tilde g_{ij}^{ab} (\\frac{\\partial}{\\partial A_t} \\frac{\\partial}{\\partial B_s} g_{ij}^{ab}) (D_{ij}^{ab})^{-1}\n",
    "- \\tilde g_{ij}^{ab} (\\frac{\\partial}{\\partial A_t} g_{ij}^{ab}) (\\frac{\\partial}{\\partial B_s} D_{ij}^{ab}) (D_{ij}^{ab})^{-2}\n",
    "\\\\&\n",
    "% Third\n",
    "% \\tilde g_{ij}^{ab} g_{ij}^{ab} (\\frac{\\partial}{\\partial A_t} D_{ij}^{ab}) (D_{ij}^{ab})^{-2}\n",
    "- (\\frac{\\partial}{\\partial B_s} \\tilde g_{ij}^{ab}) g_{ij}^{ab} (\\frac{\\partial}{\\partial A_t} D_{ij}^{ab}) (D_{ij}^{ab})^{-2}\n",
    "- \\tilde g_{ij}^{ab} (\\frac{\\partial}{\\partial B_s} g_{ij}^{ab}) (\\frac{\\partial}{\\partial A_t} D_{ij}^{ab}) (D_{ij}^{ab})^{-2}\n",
    "- \\tilde g_{ij}^{ab} g_{ij}^{ab} (\\frac{\\partial}{\\partial A_t} \\frac{\\partial}{\\partial B_s} D_{ij}^{ab}) (D_{ij}^{ab})^{-2}\n",
    "+ 2 \\tilde g_{ij}^{ab} g_{ij}^{ab} (\\frac{\\partial}{\\partial A_t} D_{ij}^{ab}) (\\frac{\\partial}{\\partial B_s} D_{ij}^{ab}) (D_{ij}^{ab})^{-3}\n",
    "\\end{align}"
   ]
  },
  {
   "cell_type": "code",
   "execution_count": 27,
   "metadata": {},
   "outputs": [],
   "source": [
    "hess_mp2 = (\n",
    "    # Line 1\n",
    "    + np.einsum(\"ABtsiajb, iajb, iajb -> ABts\", pdA_pdA_G_iajb, g_iajb, 1 / D_iajb)\n",
    "    + np.einsum(\"Atiajb, Bsiajb, iajb -> ABts\", pdA_G_iajb, pdA_g_iajb, 1 / D_iajb)\n",
    "    - np.einsum(\"Atiajb, iajb, Bsiajb, iajb -> ABts\", pdA_G_iajb, g_iajb, pdA_D_iajb, 1 / D_iajb**2)\n",
    "    # Line 2\n",
    "    + np.einsum(\"Bsiajb, Atiajb, iajb -> ABts\", pdA_G_iajb, pdA_g_iajb, 1 / D_iajb)\n",
    "    + np.einsum(\"iajb, ABtsiajb, iajb -> ABts\", G_iajb, pdA_pdA_g_iajb, 1 / D_iajb)\n",
    "    - np.einsum(\"iajb, Atiajb, Bsiajb, iajb -> ABts\", G_iajb, pdA_g_iajb, pdA_D_iajb, 1 / D_iajb**2)\n",
    "    # Line 3\n",
    "    - np.einsum(\"Bsiajb, iajb, Atiajb, iajb -> ABts\", pdA_G_iajb, g_iajb, pdA_D_iajb, 1 / D_iajb**2)\n",
    "    - np.einsum(\"iajb, Bsiajb, Atiajb, iajb -> ABts\", G_iajb, pdA_g_iajb, pdA_D_iajb, 1 / D_iajb**2)\n",
    "    - np.einsum(\"iajb, iajb, ABtsiajb, iajb -> ABts\", G_iajb, g_iajb, pdA_pdA_D_iajb, 1 / D_iajb**2)\n",
    "    + 2 * np.einsum(\"iajb, iajb, Atiajb, Bsiajb, iajb -> ABts\", G_iajb, g_iajb, pdA_D_iajb, pdA_D_iajb, 1 / D_iajb**3)\n",
    ")"
   ]
  },
  {
   "cell_type": "markdown",
   "metadata": {},
   "source": [
    "我们可以验证上述计算结果与参考值非常接近，意味着我们正确地生成了 MP2 解析二阶梯度："
   ]
  },
  {
   "cell_type": "code",
   "execution_count": 28,
   "metadata": {},
   "outputs": [
    {
     "data": {
      "text/plain": [
       "True"
      ]
     },
     "execution_count": 28,
     "metadata": {},
     "output_type": "execute_result"
    }
   ],
   "source": [
    "np.allclose(hess_mp2, hess_mp2_ref)"
   ]
  },
  {
   "cell_type": "code",
   "execution_count": null,
   "metadata": {},
   "outputs": [],
   "source": []
  },
  {
   "cell_type": "code",
   "execution_count": null,
   "metadata": {},
   "outputs": [],
   "source": []
  },
  {
   "cell_type": "code",
   "execution_count": null,
   "metadata": {},
   "outputs": [],
   "source": []
  },
  {
   "cell_type": "code",
   "execution_count": null,
   "metadata": {},
   "outputs": [],
   "source": []
  },
  {
   "cell_type": "code",
   "execution_count": null,
   "metadata": {},
   "outputs": [],
   "source": []
  },
  {
   "cell_type": "code",
   "execution_count": null,
   "metadata": {},
   "outputs": [],
   "source": []
  },
  {
   "cell_type": "code",
   "execution_count": null,
   "metadata": {},
   "outputs": [],
   "source": []
  },
  {
   "cell_type": "code",
   "execution_count": null,
   "metadata": {},
   "outputs": [],
   "source": []
  },
  {
   "cell_type": "code",
   "execution_count": null,
   "metadata": {},
   "outputs": [],
   "source": []
  },
  {
   "cell_type": "code",
   "execution_count": null,
   "metadata": {},
   "outputs": [],
   "source": []
  },
  {
   "cell_type": "code",
   "execution_count": null,
   "metadata": {},
   "outputs": [],
   "source": []
  },
  {
   "cell_type": "code",
   "execution_count": null,
   "metadata": {},
   "outputs": [],
   "source": []
  },
  {
   "cell_type": "code",
   "execution_count": null,
   "metadata": {},
   "outputs": [],
   "source": []
  },
  {
   "cell_type": "code",
   "execution_count": null,
   "metadata": {},
   "outputs": [],
   "source": []
  }
 ],
 "metadata": {
  "kernelspec": {
   "display_name": "Python 3",
   "language": "python",
   "name": "python3"
  },
  "language_info": {
   "codemirror_mode": {
    "name": "ipython",
    "version": 3
   },
   "file_extension": ".py",
   "mimetype": "text/x-python",
   "name": "python",
   "nbconvert_exporter": "python",
   "pygments_lexer": "ipython3",
   "version": "3.7.1"
  }
 },
 "nbformat": 4,
 "nbformat_minor": 2
}
