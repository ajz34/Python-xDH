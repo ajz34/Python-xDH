{
 "cells": [
  {
   "cell_type": "code",
   "execution_count": 1,
   "metadata": {},
   "outputs": [],
   "source": [
    "%load_ext autoreload\n",
    "%autoreload 2\n",
    "\n",
    "import numpy as np\n",
    "import scipy\n",
    "from matplotlib import pyplot as plt\n",
    "from pyscf import scf, gto, lib, grad, hessian, dft\n",
    "from functools import partial\n",
    "\n",
    "import sys, gc, os\n",
    "sys.path.append('../../')\n",
    "os.environ[\"LOGLEVEL\"] = \"2\"\n",
    "import pickle\n",
    "from utilities import val_from_fchk, timing\n",
    "from hf_helper import HFHelper\n",
    "from numeric_helper import NumericDiff\n",
    "from gga_helper import GGAHelper\n",
    "from grid_helper import GridHelper, KernelHelper\n",
    "\n",
    "np.einsum = partial(np.einsum, optimize=[\"greedy\", 1024 ** 3 * 10 / 8])\n",
    "np.einsum_path = partial(np.einsum_path, optimize=[\"greedy\", 1024 ** 3 * 10 / 8])\n",
    "np.set_printoptions(5, linewidth=120, suppress=True)"
   ]
  },
  {
   "cell_type": "code",
   "execution_count": 2,
   "metadata": {},
   "outputs": [],
   "source": [
    "# Libxc does not provide B3LYP 3th order of derivative, move to xcfun\n",
    "dft.numint.libxc = dft.xcfun"
   ]
  },
  {
   "cell_type": "code",
   "execution_count": 3,
   "metadata": {},
   "outputs": [],
   "source": [
    "# !!!!!!!!!!!!!!!!!!!!!!!!!!!!!!!!!!!!!!!!! NOTE !!!!!!!!!!!!!!!!!!!!!!!!!!!!!!!!!!!!!!!!!\n",
    "# For clear and simplicity, following code cell will be hidden and assumed to be executed!\n",
    "\n",
    "mol = gto.Mole()\n",
    "mol.atom = \"\"\"\n",
    "O  0.0  0.0  0.0\n",
    "O  0.0  0.0  1.5\n",
    "H  1.5  0.0  0.0\n",
    "H  0.0  0.7  1.5\n",
    "\"\"\"\n",
    "mol.basis = \"6-31G\"\n",
    "mol.verbose = 0\n",
    "mol.build()\n",
    "\n",
    "grids = dft.gen_grid.Grids(mol)\n",
    "grids.atom_grid = (75, 302)\n",
    "grids.becke_scheme = dft.gen_grid.stratmann\n",
    "grids.build()\n",
    "\n",
    "nmo = nao = mol.nao\n",
    "natm = mol.natm\n",
    "nocc = mol.nelec[0]\n",
    "nvir = nmo - nocc\n",
    "so = slice(0, nocc)\n",
    "sv = slice(nocc, nmo)\n",
    "sa = slice(0, nmo)"
   ]
  },
  {
   "cell_type": "code",
   "execution_count": null,
   "metadata": {},
   "outputs": [],
   "source": [
    "scfh = GGAHelper(mol, \"b3lypg\", grids)\n",
    "scfh.get_kerh(deriv=3)\n",
    "\n",
    "scfh.get_grad()\n",
    "scfh.get_hess()\n",
    "\n",
    "scf_eng  = scfh.scf_eng\n",
    "scf_grad = scfh.scf_grad\n",
    "scf_hess = scfh.scf_hess"
   ]
  },
  {
   "cell_type": "code",
   "execution_count": null,
   "metadata": {},
   "outputs": [],
   "source": [
    "cx      = scfh.cx\n",
    "C       = scfh.C\n",
    "Co      = scfh.Co\n",
    "Cv      = scfh.Cv\n",
    "e       = scfh.e\n",
    "eo      = scfh.eo\n",
    "ev      = scfh.ev\n",
    "D       = scfh.D\n",
    "F_0_ao  = scfh.F_0_ao\n",
    "F_0_mo  = scfh.F_0_mo\n",
    "H_0_ao  = scfh.H_0_ao\n",
    "H_0_mo  = scfh.H_0_mo\n",
    "eri0_ao = scfh.eri0_ao\n",
    "eri0_mo = scfh.eri0_mo\n",
    "mo_occ  = scfh.mo_occ\n",
    "H_1_ao  = scfh.H_1_ao\n",
    "H_1_mo  = scfh.H_1_mo\n",
    "S_1_ao  = scfh.S_1_ao\n",
    "S_1_mo  = scfh.S_1_mo\n",
    "F_1_ao  = scfh.F_1_ao\n",
    "F_1_mo  = scfh.F_1_mo\n",
    "eri1_ao = scfh.eri1_ao\n",
    "eri1_mo = scfh.eri1_mo\n",
    "H_2_ao  = scfh.H_2_ao\n",
    "H_2_mo  = scfh.H_2_mo\n",
    "S_2_ao  = scfh.S_2_ao\n",
    "S_2_mo  = scfh.S_2_mo\n",
    "eri2_ao = scfh.eri2_ao\n",
    "B_1     = scfh.B_1\n",
    "U_1     = scfh.U_1\n",
    "Xi_2    = scfh.Xi_2\n",
    "U_2_vo  = scfh.U_2_vo\n",
    "\n",
    "Ax0_Core = scfh.Ax0_Core\n",
    "# Ax1_Core = scfh.Ax1_Core\n",
    "mol_slice = scfh.mol_slice"
   ]
  },
  {
   "cell_type": "code",
   "execution_count": null,
   "metadata": {},
   "outputs": [],
   "source": [
    "grdh = GridHelper(mol, grids, D)\n",
    "kerh = KernelHelper(grdh, scfh.xc, deriv=3)"
   ]
  },
  {
   "cell_type": "markdown",
   "metadata": {},
   "source": [
    "## First order U revisit"
   ]
  },
  {
   "cell_type": "code",
   "execution_count": null,
   "metadata": {},
   "outputs": [],
   "source": [
    "# %%time\n",
    "# C_diff = NumericDiff(mol, lambda mol : GGAHelper(mol, \"b3lypg\", grids).C, interval=1e-4).get_numdif()\n",
    "# U_1_num = np.linalg.inv(C) @ C_diff"
   ]
  },
  {
   "cell_type": "code",
   "execution_count": null,
   "metadata": {},
   "outputs": [],
   "source": [
    "# with open('num_C_U1.dat', 'wb') as f:\n",
    "#     pickle.dump({\"C_diff\": C_diff, \"U_1_num\": U_1_num}, f, pickle.HIGHEST_PROTOCOL)"
   ]
  },
  {
   "cell_type": "code",
   "execution_count": null,
   "metadata": {},
   "outputs": [],
   "source": [
    "with open('num_C_U1.dat', 'rb') as f:\n",
    "    pickle_load = pickle.load(f)\n",
    "C_diff = pickle_load[\"C_diff\"]\n",
    "U_1_num = pickle_load[\"U_1_num\"]"
   ]
  },
  {
   "cell_type": "code",
   "execution_count": null,
   "metadata": {},
   "outputs": [],
   "source": [
    "plt.hist(abs(U_1_num - U_1).ravel(), bins=np.logspace(np.log10(1e-8),np.log10(1e1), 50))\n",
    "plt.gca().set_xscale(\"log\")"
   ]
  },
  {
   "cell_type": "code",
   "execution_count": null,
   "metadata": {},
   "outputs": [],
   "source": [
    "plt.hist(abs(U_1_num).ravel(), bins=np.logspace(np.log10(1e-8),np.log10(1e1), 50))\n",
    "plt.gca().set_xscale(\"log\")"
   ]
  },
  {
   "cell_type": "code",
   "execution_count": null,
   "metadata": {},
   "outputs": [],
   "source": [
    "with open('num_U1_U2.dat', 'rb') as f:\n",
    "    pickle_load = pickle.load(f)\n",
    "U1vo_diff = pickle_load[\"U_1_vo_diff\"]\n",
    "U2vo_num = pickle_load[\"U_2_vo_num\"]"
   ]
  },
  {
   "cell_type": "code",
   "execution_count": null,
   "metadata": {},
   "outputs": [],
   "source": [
    "plt.hist(abs(U2vo_num - U_2_vo).ravel(), bins=np.logspace(np.log10(1e-8),np.log10(1e1), 50))\n",
    "plt.gca().set_xscale(\"log\")"
   ]
  },
  {
   "cell_type": "code",
   "execution_count": null,
   "metadata": {},
   "outputs": [],
   "source": [
    "plt.hist(abs(U2vo_num).ravel(), bins=np.logspace(np.log10(1e-8),np.log10(1e1), 50))\n",
    "plt.gca().set_xscale(\"log\")"
   ]
  },
  {
   "cell_type": "code",
   "execution_count": null,
   "metadata": {},
   "outputs": [],
   "source": [
    "conv = (\n",
    "    + U2vo_num * lib.direct_sum(\"a - i\", ev, eo)\n",
    "    + scfh.Ax0_Core(sv, so, sv, so)(U2vo_num)\n",
    "    + scfh.B_2_vo\n",
    ")"
   ]
  },
  {
   "cell_type": "code",
   "execution_count": null,
   "metadata": {},
   "outputs": [],
   "source": [
    "print(conv.max())\n",
    "print(conv.min())"
   ]
  }
 ],
 "metadata": {
  "kernelspec": {
   "display_name": "Python 3",
   "language": "python",
   "name": "python3"
  },
  "language_info": {
   "codemirror_mode": {
    "name": "ipython",
    "version": 3
   },
   "file_extension": ".py",
   "mimetype": "text/x-python",
   "name": "python",
   "nbconvert_exporter": "python",
   "pygments_lexer": "ipython3",
   "version": "3.7.0"
  }
 },
 "nbformat": 4,
 "nbformat_minor": 2
}
